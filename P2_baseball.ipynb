{
 "cells": [
  {
   "cell_type": "markdown",
   "metadata": {},
   "source": [
    "# P2: Investigate a Dataset\n",
    "\n",
    "### Source: 2014 Lahman’s Baseball Database."
   ]
  },
  {
   "cell_type": "raw",
   "metadata": {},
   "source": [
    "I used \"Salaries.csv\" and \"AwardsSharePlayers.csv\" for my project and my question to this database is \n",
    "    \"What factors have an effect on team salaries?\"\n",
    "There are total 5 columns and I am going to analyze yearID, teamID and igID to investigate how these columns are related to salaries.\n",
    "\n",
    "First, I am going to import these two csv files and transform to Pandas DataFrame and do some data wrangling."
   ]
  },
  {
   "cell_type": "code",
   "execution_count": 157,
   "metadata": {
    "collapsed": false
   },
   "outputs": [
    {
     "data": {
      "text/html": [
       "<div>\n",
       "<table border=\"1\" class=\"dataframe\">\n",
       "  <thead>\n",
       "    <tr style=\"text-align: right;\">\n",
       "      <th></th>\n",
       "      <th>yearID</th>\n",
       "      <th>teamID</th>\n",
       "      <th>lgID</th>\n",
       "      <th>playerID</th>\n",
       "      <th>salary</th>\n",
       "    </tr>\n",
       "  </thead>\n",
       "  <tbody>\n",
       "    <tr>\n",
       "      <th>0</th>\n",
       "      <td>1985</td>\n",
       "      <td>ATL</td>\n",
       "      <td>NL</td>\n",
       "      <td>barkele01</td>\n",
       "      <td>870000</td>\n",
       "    </tr>\n",
       "    <tr>\n",
       "      <th>1</th>\n",
       "      <td>1985</td>\n",
       "      <td>ATL</td>\n",
       "      <td>NL</td>\n",
       "      <td>bedrost01</td>\n",
       "      <td>550000</td>\n",
       "    </tr>\n",
       "    <tr>\n",
       "      <th>2</th>\n",
       "      <td>1985</td>\n",
       "      <td>ATL</td>\n",
       "      <td>NL</td>\n",
       "      <td>benedbr01</td>\n",
       "      <td>545000</td>\n",
       "    </tr>\n",
       "    <tr>\n",
       "      <th>3</th>\n",
       "      <td>1985</td>\n",
       "      <td>ATL</td>\n",
       "      <td>NL</td>\n",
       "      <td>campri01</td>\n",
       "      <td>633333</td>\n",
       "    </tr>\n",
       "    <tr>\n",
       "      <th>4</th>\n",
       "      <td>1985</td>\n",
       "      <td>ATL</td>\n",
       "      <td>NL</td>\n",
       "      <td>ceronri01</td>\n",
       "      <td>625000</td>\n",
       "    </tr>\n",
       "  </tbody>\n",
       "</table>\n",
       "</div>"
      ],
      "text/plain": [
       "   yearID teamID lgID   playerID  salary\n",
       "0    1985    ATL   NL  barkele01  870000\n",
       "1    1985    ATL   NL  bedrost01  550000\n",
       "2    1985    ATL   NL  benedbr01  545000\n",
       "3    1985    ATL   NL   campri01  633333\n",
       "4    1985    ATL   NL  ceronri01  625000"
      ]
     },
     "execution_count": 157,
     "metadata": {},
     "output_type": "execute_result"
    }
   ],
   "source": [
    "import matplotlib.pyplot as plt\n",
    "import numpy as np\n",
    "import pandas as pd\n",
    "\n",
    "# import Salaries data\n",
    "filename = 'Salaries.csv'\n",
    "salariesDF = pd.read_csv(filename)\n",
    "\n",
    "# import Players data\n",
    "filename = 'AwardsSharePlayers.csv'\n",
    "playersDF = pd.read_csv(filename)\n",
    "\n",
    "salariesDF.head()"
   ]
  },
  {
   "cell_type": "code",
   "execution_count": 158,
   "metadata": {
    "collapsed": false
   },
   "outputs": [
    {
     "data": {
      "text/html": [
       "<div>\n",
       "<table border=\"1\" class=\"dataframe\">\n",
       "  <thead>\n",
       "    <tr style=\"text-align: right;\">\n",
       "      <th></th>\n",
       "      <th>awardID</th>\n",
       "      <th>yearID</th>\n",
       "      <th>lgID</th>\n",
       "      <th>playerID</th>\n",
       "      <th>pointsWon</th>\n",
       "      <th>pointsMax</th>\n",
       "      <th>votesFirst</th>\n",
       "    </tr>\n",
       "  </thead>\n",
       "  <tbody>\n",
       "    <tr>\n",
       "      <th>0</th>\n",
       "      <td>Cy Young</td>\n",
       "      <td>1956</td>\n",
       "      <td>ML</td>\n",
       "      <td>fordwh01</td>\n",
       "      <td>1.0</td>\n",
       "      <td>16</td>\n",
       "      <td>1.0</td>\n",
       "    </tr>\n",
       "    <tr>\n",
       "      <th>1</th>\n",
       "      <td>Cy Young</td>\n",
       "      <td>1956</td>\n",
       "      <td>ML</td>\n",
       "      <td>maglisa01</td>\n",
       "      <td>4.0</td>\n",
       "      <td>16</td>\n",
       "      <td>4.0</td>\n",
       "    </tr>\n",
       "    <tr>\n",
       "      <th>2</th>\n",
       "      <td>Cy Young</td>\n",
       "      <td>1956</td>\n",
       "      <td>ML</td>\n",
       "      <td>newcodo01</td>\n",
       "      <td>10.0</td>\n",
       "      <td>16</td>\n",
       "      <td>10.0</td>\n",
       "    </tr>\n",
       "    <tr>\n",
       "      <th>3</th>\n",
       "      <td>Cy Young</td>\n",
       "      <td>1956</td>\n",
       "      <td>ML</td>\n",
       "      <td>spahnwa01</td>\n",
       "      <td>1.0</td>\n",
       "      <td>16</td>\n",
       "      <td>1.0</td>\n",
       "    </tr>\n",
       "    <tr>\n",
       "      <th>4</th>\n",
       "      <td>Cy Young</td>\n",
       "      <td>1957</td>\n",
       "      <td>ML</td>\n",
       "      <td>donovdi01</td>\n",
       "      <td>1.0</td>\n",
       "      <td>16</td>\n",
       "      <td>1.0</td>\n",
       "    </tr>\n",
       "  </tbody>\n",
       "</table>\n",
       "</div>"
      ],
      "text/plain": [
       "    awardID  yearID lgID   playerID  pointsWon  pointsMax  votesFirst\n",
       "0  Cy Young    1956   ML   fordwh01        1.0         16         1.0\n",
       "1  Cy Young    1956   ML  maglisa01        4.0         16         4.0\n",
       "2  Cy Young    1956   ML  newcodo01       10.0         16        10.0\n",
       "3  Cy Young    1956   ML  spahnwa01        1.0         16         1.0\n",
       "4  Cy Young    1957   ML  donovdi01        1.0         16         1.0"
      ]
     },
     "execution_count": 158,
     "metadata": {},
     "output_type": "execute_result"
    }
   ],
   "source": [
    "playersDF.head()"
   ]
  },
  {
   "cell_type": "markdown",
   "metadata": {},
   "source": [
    "\n",
    "\n",
    "\n",
    "\n",
    "And I am going to see if there is any null value in the data.\n",
    "First salaries data."
   ]
  },
  {
   "cell_type": "code",
   "execution_count": 160,
   "metadata": {
    "collapsed": false
   },
   "outputs": [
    {
     "data": {
      "text/plain": [
       "yearID      0\n",
       "teamID      0\n",
       "lgID        0\n",
       "playerID    0\n",
       "salary      0\n",
       "dtype: int64"
      ]
     },
     "execution_count": 160,
     "metadata": {},
     "output_type": "execute_result"
    }
   ],
   "source": [
    "pd.isnull(salariesDF).sum()"
   ]
  },
  {
   "cell_type": "code",
   "execution_count": 161,
   "metadata": {
    "collapsed": false
   },
   "outputs": [
    {
     "data": {
      "text/html": [
       "<div>\n",
       "<table border=\"1\" class=\"dataframe\">\n",
       "  <thead>\n",
       "    <tr style=\"text-align: right;\">\n",
       "      <th></th>\n",
       "      <th>yearID</th>\n",
       "      <th>salary</th>\n",
       "    </tr>\n",
       "  </thead>\n",
       "  <tbody>\n",
       "    <tr>\n",
       "      <th>count</th>\n",
       "      <td>24758.000000</td>\n",
       "      <td>2.475800e+04</td>\n",
       "    </tr>\n",
       "    <tr>\n",
       "      <th>mean</th>\n",
       "      <td>1999.891752</td>\n",
       "      <td>1.932905e+06</td>\n",
       "    </tr>\n",
       "    <tr>\n",
       "      <th>std</th>\n",
       "      <td>8.324492</td>\n",
       "      <td>3.190334e+06</td>\n",
       "    </tr>\n",
       "    <tr>\n",
       "      <th>min</th>\n",
       "      <td>1985.000000</td>\n",
       "      <td>0.000000e+00</td>\n",
       "    </tr>\n",
       "    <tr>\n",
       "      <th>25%</th>\n",
       "      <td>1993.000000</td>\n",
       "      <td>2.600000e+05</td>\n",
       "    </tr>\n",
       "    <tr>\n",
       "      <th>50%</th>\n",
       "      <td>2000.000000</td>\n",
       "      <td>5.250000e+05</td>\n",
       "    </tr>\n",
       "    <tr>\n",
       "      <th>75%</th>\n",
       "      <td>2007.000000</td>\n",
       "      <td>2.199643e+06</td>\n",
       "    </tr>\n",
       "    <tr>\n",
       "      <th>max</th>\n",
       "      <td>2014.000000</td>\n",
       "      <td>3.300000e+07</td>\n",
       "    </tr>\n",
       "  </tbody>\n",
       "</table>\n",
       "</div>"
      ],
      "text/plain": [
       "             yearID        salary\n",
       "count  24758.000000  2.475800e+04\n",
       "mean    1999.891752  1.932905e+06\n",
       "std        8.324492  3.190334e+06\n",
       "min     1985.000000  0.000000e+00\n",
       "25%     1993.000000  2.600000e+05\n",
       "50%     2000.000000  5.250000e+05\n",
       "75%     2007.000000  2.199643e+06\n",
       "max     2014.000000  3.300000e+07"
      ]
     },
     "execution_count": 161,
     "metadata": {},
     "output_type": "execute_result"
    }
   ],
   "source": [
    "salariesDF.describe()"
   ]
  },
  {
   "cell_type": "markdown",
   "metadata": {},
   "source": [
    "\n",
    "\n",
    "\n",
    "\n",
    "Although there is no null value in the data, there are some zeros in salary column. I am going to find these rows with zero salary."
   ]
  },
  {
   "cell_type": "code",
   "execution_count": 162,
   "metadata": {
    "collapsed": false
   },
   "outputs": [
    {
     "data": {
      "text/html": [
       "<div>\n",
       "<table border=\"1\" class=\"dataframe\">\n",
       "  <thead>\n",
       "    <tr style=\"text-align: right;\">\n",
       "      <th></th>\n",
       "      <th>yearID</th>\n",
       "      <th>teamID</th>\n",
       "      <th>lgID</th>\n",
       "      <th>playerID</th>\n",
       "      <th>salary</th>\n",
       "    </tr>\n",
       "  </thead>\n",
       "  <tbody>\n",
       "    <tr>\n",
       "      <th>6179</th>\n",
       "      <td>1993</td>\n",
       "      <td>NYA</td>\n",
       "      <td>AL</td>\n",
       "      <td>jamesdi01</td>\n",
       "      <td>0</td>\n",
       "    </tr>\n",
       "    <tr>\n",
       "      <th>12007</th>\n",
       "      <td>1999</td>\n",
       "      <td>PIT</td>\n",
       "      <td>NL</td>\n",
       "      <td>martija02</td>\n",
       "      <td>0</td>\n",
       "    </tr>\n",
       "  </tbody>\n",
       "</table>\n",
       "</div>"
      ],
      "text/plain": [
       "       yearID teamID lgID   playerID  salary\n",
       "6179     1993    NYA   AL  jamesdi01       0\n",
       "12007    1999    PIT   NL  martija02       0"
      ]
     },
     "execution_count": 162,
     "metadata": {},
     "output_type": "execute_result"
    }
   ],
   "source": [
    "salariesDF[salariesDF[\"salary\"] == 0]"
   ]
  },
  {
   "cell_type": "markdown",
   "metadata": {},
   "source": [
    "\n",
    "\n",
    "\n",
    "There are total two players with 0 salary. I am going to find more details about those two players."
   ]
  },
  {
   "cell_type": "code",
   "execution_count": 163,
   "metadata": {
    "collapsed": false
   },
   "outputs": [
    {
     "data": {
      "text/html": [
       "<div>\n",
       "<table border=\"1\" class=\"dataframe\">\n",
       "  <thead>\n",
       "    <tr style=\"text-align: right;\">\n",
       "      <th></th>\n",
       "      <th>yearID</th>\n",
       "      <th>teamID</th>\n",
       "      <th>lgID</th>\n",
       "      <th>playerID</th>\n",
       "      <th>salary</th>\n",
       "    </tr>\n",
       "  </thead>\n",
       "  <tbody>\n",
       "    <tr>\n",
       "      <th>1302</th>\n",
       "      <td>1987</td>\n",
       "      <td>ATL</td>\n",
       "      <td>NL</td>\n",
       "      <td>jamesdi01</td>\n",
       "      <td>120000</td>\n",
       "    </tr>\n",
       "    <tr>\n",
       "      <th>1929</th>\n",
       "      <td>1988</td>\n",
       "      <td>ATL</td>\n",
       "      <td>NL</td>\n",
       "      <td>jamesdi01</td>\n",
       "      <td>360000</td>\n",
       "    </tr>\n",
       "    <tr>\n",
       "      <th>2591</th>\n",
       "      <td>1989</td>\n",
       "      <td>ATL</td>\n",
       "      <td>NL</td>\n",
       "      <td>jamesdi01</td>\n",
       "      <td>400000</td>\n",
       "    </tr>\n",
       "    <tr>\n",
       "      <th>3536</th>\n",
       "      <td>1990</td>\n",
       "      <td>CLE</td>\n",
       "      <td>AL</td>\n",
       "      <td>jamesdi01</td>\n",
       "      <td>650000</td>\n",
       "    </tr>\n",
       "    <tr>\n",
       "      <th>5293</th>\n",
       "      <td>1992</td>\n",
       "      <td>NYA</td>\n",
       "      <td>AL</td>\n",
       "      <td>jamesdi01</td>\n",
       "      <td>387500</td>\n",
       "    </tr>\n",
       "    <tr>\n",
       "      <th>6179</th>\n",
       "      <td>1993</td>\n",
       "      <td>NYA</td>\n",
       "      <td>AL</td>\n",
       "      <td>jamesdi01</td>\n",
       "      <td>0</td>\n",
       "    </tr>\n",
       "    <tr>\n",
       "      <th>8019</th>\n",
       "      <td>1995</td>\n",
       "      <td>NYA</td>\n",
       "      <td>AL</td>\n",
       "      <td>jamesdi01</td>\n",
       "      <td>350000</td>\n",
       "    </tr>\n",
       "  </tbody>\n",
       "</table>\n",
       "</div>"
      ],
      "text/plain": [
       "      yearID teamID lgID   playerID  salary\n",
       "1302    1987    ATL   NL  jamesdi01  120000\n",
       "1929    1988    ATL   NL  jamesdi01  360000\n",
       "2591    1989    ATL   NL  jamesdi01  400000\n",
       "3536    1990    CLE   AL  jamesdi01  650000\n",
       "5293    1992    NYA   AL  jamesdi01  387500\n",
       "6179    1993    NYA   AL  jamesdi01       0\n",
       "8019    1995    NYA   AL  jamesdi01  350000"
      ]
     },
     "execution_count": 163,
     "metadata": {},
     "output_type": "execute_result"
    }
   ],
   "source": [
    "salariesDF[salariesDF[\"playerID\"] == \"jamesdi01\"]"
   ]
  },
  {
   "cell_type": "code",
   "execution_count": 164,
   "metadata": {
    "collapsed": false,
    "scrolled": true
   },
   "outputs": [
    {
     "data": {
      "text/html": [
       "<div>\n",
       "<table border=\"1\" class=\"dataframe\">\n",
       "  <thead>\n",
       "    <tr style=\"text-align: right;\">\n",
       "      <th></th>\n",
       "      <th>yearID</th>\n",
       "      <th>teamID</th>\n",
       "      <th>lgID</th>\n",
       "      <th>playerID</th>\n",
       "      <th>salary</th>\n",
       "    </tr>\n",
       "  </thead>\n",
       "  <tbody>\n",
       "    <tr>\n",
       "      <th>11011</th>\n",
       "      <td>1998</td>\n",
       "      <td>PIT</td>\n",
       "      <td>NL</td>\n",
       "      <td>martija02</td>\n",
       "      <td>170000</td>\n",
       "    </tr>\n",
       "    <tr>\n",
       "      <th>12007</th>\n",
       "      <td>1999</td>\n",
       "      <td>PIT</td>\n",
       "      <td>NL</td>\n",
       "      <td>martija02</td>\n",
       "      <td>0</td>\n",
       "    </tr>\n",
       "  </tbody>\n",
       "</table>\n",
       "</div>"
      ],
      "text/plain": [
       "       yearID teamID lgID   playerID  salary\n",
       "11011    1998    PIT   NL  martija02  170000\n",
       "12007    1999    PIT   NL  martija02       0"
      ]
     },
     "execution_count": 164,
     "metadata": {},
     "output_type": "execute_result"
    }
   ],
   "source": [
    "salariesDF[salariesDF[\"playerID\"] == \"martija02\"]"
   ]
  },
  {
   "cell_type": "markdown",
   "metadata": {},
   "source": [
    "\n",
    "\n",
    "\n",
    "Clearly for jamesdi01, the 0 value is wrong. I am going to assume the salary in 1993 as the average of 1992 and 1995. For martija02, I will ignore these two rows from the database.\n",
    "\n"
   ]
  },
  {
   "cell_type": "code",
   "execution_count": 165,
   "metadata": {
    "collapsed": false
   },
   "outputs": [
    {
     "data": {
      "text/html": [
       "<div>\n",
       "<table border=\"1\" class=\"dataframe\">\n",
       "  <thead>\n",
       "    <tr style=\"text-align: right;\">\n",
       "      <th></th>\n",
       "      <th>yearID</th>\n",
       "      <th>teamID</th>\n",
       "      <th>lgID</th>\n",
       "      <th>playerID</th>\n",
       "      <th>salary</th>\n",
       "    </tr>\n",
       "  </thead>\n",
       "  <tbody>\n",
       "    <tr>\n",
       "      <th>1302</th>\n",
       "      <td>1987</td>\n",
       "      <td>ATL</td>\n",
       "      <td>NL</td>\n",
       "      <td>jamesdi01</td>\n",
       "      <td>120000</td>\n",
       "    </tr>\n",
       "    <tr>\n",
       "      <th>1929</th>\n",
       "      <td>1988</td>\n",
       "      <td>ATL</td>\n",
       "      <td>NL</td>\n",
       "      <td>jamesdi01</td>\n",
       "      <td>360000</td>\n",
       "    </tr>\n",
       "    <tr>\n",
       "      <th>2591</th>\n",
       "      <td>1989</td>\n",
       "      <td>ATL</td>\n",
       "      <td>NL</td>\n",
       "      <td>jamesdi01</td>\n",
       "      <td>400000</td>\n",
       "    </tr>\n",
       "    <tr>\n",
       "      <th>3536</th>\n",
       "      <td>1990</td>\n",
       "      <td>CLE</td>\n",
       "      <td>AL</td>\n",
       "      <td>jamesdi01</td>\n",
       "      <td>650000</td>\n",
       "    </tr>\n",
       "    <tr>\n",
       "      <th>5293</th>\n",
       "      <td>1992</td>\n",
       "      <td>NYA</td>\n",
       "      <td>AL</td>\n",
       "      <td>jamesdi01</td>\n",
       "      <td>387500</td>\n",
       "    </tr>\n",
       "    <tr>\n",
       "      <th>6179</th>\n",
       "      <td>1993</td>\n",
       "      <td>NYA</td>\n",
       "      <td>AL</td>\n",
       "      <td>jamesdi01</td>\n",
       "      <td>368750</td>\n",
       "    </tr>\n",
       "    <tr>\n",
       "      <th>8019</th>\n",
       "      <td>1995</td>\n",
       "      <td>NYA</td>\n",
       "      <td>AL</td>\n",
       "      <td>jamesdi01</td>\n",
       "      <td>350000</td>\n",
       "    </tr>\n",
       "  </tbody>\n",
       "</table>\n",
       "</div>"
      ],
      "text/plain": [
       "      yearID teamID lgID   playerID  salary\n",
       "1302    1987    ATL   NL  jamesdi01  120000\n",
       "1929    1988    ATL   NL  jamesdi01  360000\n",
       "2591    1989    ATL   NL  jamesdi01  400000\n",
       "3536    1990    CLE   AL  jamesdi01  650000\n",
       "5293    1992    NYA   AL  jamesdi01  387500\n",
       "6179    1993    NYA   AL  jamesdi01  368750\n",
       "8019    1995    NYA   AL  jamesdi01  350000"
      ]
     },
     "execution_count": 165,
     "metadata": {},
     "output_type": "execute_result"
    }
   ],
   "source": [
    "# Taking care of jamesdi01\n",
    "salariesDF[\"salary\"].iloc[6179] = (387500 + 350000) / 2\n",
    "salariesDF[salariesDF[\"playerID\"] == \"jamesdi01\"]"
   ]
  },
  {
   "cell_type": "code",
   "execution_count": 166,
   "metadata": {
    "collapsed": false
   },
   "outputs": [
    {
     "data": {
      "text/html": [
       "<div>\n",
       "<table border=\"1\" class=\"dataframe\">\n",
       "  <thead>\n",
       "    <tr style=\"text-align: right;\">\n",
       "      <th></th>\n",
       "      <th>yearID</th>\n",
       "      <th>salary</th>\n",
       "    </tr>\n",
       "  </thead>\n",
       "  <tbody>\n",
       "    <tr>\n",
       "      <th>count</th>\n",
       "      <td>24756.000000</td>\n",
       "      <td>2.475600e+04</td>\n",
       "    </tr>\n",
       "    <tr>\n",
       "      <th>mean</th>\n",
       "      <td>1999.891865</td>\n",
       "      <td>1.933069e+06</td>\n",
       "    </tr>\n",
       "    <tr>\n",
       "      <th>std</th>\n",
       "      <td>8.324817</td>\n",
       "      <td>3.190411e+06</td>\n",
       "    </tr>\n",
       "    <tr>\n",
       "      <th>min</th>\n",
       "      <td>1985.000000</td>\n",
       "      <td>1.090000e+04</td>\n",
       "    </tr>\n",
       "    <tr>\n",
       "      <th>25%</th>\n",
       "      <td>1993.000000</td>\n",
       "      <td>2.600000e+05</td>\n",
       "    </tr>\n",
       "    <tr>\n",
       "      <th>50%</th>\n",
       "      <td>2000.000000</td>\n",
       "      <td>5.250000e+05</td>\n",
       "    </tr>\n",
       "    <tr>\n",
       "      <th>75%</th>\n",
       "      <td>2007.000000</td>\n",
       "      <td>2.200000e+06</td>\n",
       "    </tr>\n",
       "    <tr>\n",
       "      <th>max</th>\n",
       "      <td>2014.000000</td>\n",
       "      <td>3.300000e+07</td>\n",
       "    </tr>\n",
       "  </tbody>\n",
       "</table>\n",
       "</div>"
      ],
      "text/plain": [
       "             yearID        salary\n",
       "count  24756.000000  2.475600e+04\n",
       "mean    1999.891865  1.933069e+06\n",
       "std        8.324817  3.190411e+06\n",
       "min     1985.000000  1.090000e+04\n",
       "25%     1993.000000  2.600000e+05\n",
       "50%     2000.000000  5.250000e+05\n",
       "75%     2007.000000  2.200000e+06\n",
       "max     2014.000000  3.300000e+07"
      ]
     },
     "execution_count": 166,
     "metadata": {},
     "output_type": "execute_result"
    }
   ],
   "source": [
    "# Taking care of martija02\n",
    "salariesDF = salariesDF[salariesDF[\"playerID\"] != \"martija02\"]\n",
    "salariesDF.describe()"
   ]
  },
  {
   "cell_type": "markdown",
   "metadata": {},
   "source": [
    "Now I am going to clean the AwardsSharePlayers data."
   ]
  },
  {
   "cell_type": "code",
   "execution_count": 167,
   "metadata": {
    "collapsed": false
   },
   "outputs": [
    {
     "data": {
      "text/plain": [
       "awardID         0\n",
       "yearID          0\n",
       "lgID            0\n",
       "playerID        0\n",
       "pointsWon       0\n",
       "pointsMax       0\n",
       "votesFirst    358\n",
       "dtype: int64"
      ]
     },
     "execution_count": 167,
     "metadata": {},
     "output_type": "execute_result"
    }
   ],
   "source": [
    "# Printout the total number of null values of each column\n",
    "pd.isnull(playersDF).sum()"
   ]
  },
  {
   "cell_type": "code",
   "execution_count": 168,
   "metadata": {
    "collapsed": false
   },
   "outputs": [
    {
     "data": {
      "text/html": [
       "<div>\n",
       "<table border=\"1\" class=\"dataframe\">\n",
       "  <thead>\n",
       "    <tr style=\"text-align: right;\">\n",
       "      <th></th>\n",
       "      <th>yearID</th>\n",
       "      <th>pointsWon</th>\n",
       "      <th>pointsMax</th>\n",
       "      <th>votesFirst</th>\n",
       "    </tr>\n",
       "  </thead>\n",
       "  <tbody>\n",
       "    <tr>\n",
       "      <th>count</th>\n",
       "      <td>6705.000000</td>\n",
       "      <td>6705.000000</td>\n",
       "      <td>6705.000000</td>\n",
       "      <td>6347.000000</td>\n",
       "    </tr>\n",
       "    <tr>\n",
       "      <th>mean</th>\n",
       "      <td>1971.344817</td>\n",
       "      <td>43.168829</td>\n",
       "      <td>266.107233</td>\n",
       "      <td>1.612573</td>\n",
       "    </tr>\n",
       "    <tr>\n",
       "      <th>std</th>\n",
       "      <td>27.172773</td>\n",
       "      <td>67.714919</td>\n",
       "      <td>128.980771</td>\n",
       "      <td>4.868226</td>\n",
       "    </tr>\n",
       "    <tr>\n",
       "      <th>min</th>\n",
       "      <td>1911.000000</td>\n",
       "      <td>0.000000</td>\n",
       "      <td>16.000000</td>\n",
       "      <td>0.000000</td>\n",
       "    </tr>\n",
       "    <tr>\n",
       "      <th>25%</th>\n",
       "      <td>1950.000000</td>\n",
       "      <td>4.000000</td>\n",
       "      <td>140.000000</td>\n",
       "      <td>0.000000</td>\n",
       "    </tr>\n",
       "    <tr>\n",
       "      <th>50%</th>\n",
       "      <td>1974.000000</td>\n",
       "      <td>12.000000</td>\n",
       "      <td>336.000000</td>\n",
       "      <td>0.000000</td>\n",
       "    </tr>\n",
       "    <tr>\n",
       "      <th>75%</th>\n",
       "      <td>1994.000000</td>\n",
       "      <td>52.000000</td>\n",
       "      <td>336.000000</td>\n",
       "      <td>0.000000</td>\n",
       "    </tr>\n",
       "    <tr>\n",
       "      <th>max</th>\n",
       "      <td>2014.000000</td>\n",
       "      <td>448.000000</td>\n",
       "      <td>448.000000</td>\n",
       "      <td>32.000000</td>\n",
       "    </tr>\n",
       "  </tbody>\n",
       "</table>\n",
       "</div>"
      ],
      "text/plain": [
       "            yearID    pointsWon    pointsMax   votesFirst\n",
       "count  6705.000000  6705.000000  6705.000000  6347.000000\n",
       "mean   1971.344817    43.168829   266.107233     1.612573\n",
       "std      27.172773    67.714919   128.980771     4.868226\n",
       "min    1911.000000     0.000000    16.000000     0.000000\n",
       "25%    1950.000000     4.000000   140.000000     0.000000\n",
       "50%    1974.000000    12.000000   336.000000     0.000000\n",
       "75%    1994.000000    52.000000   336.000000     0.000000\n",
       "max    2014.000000   448.000000   448.000000    32.000000"
      ]
     },
     "execution_count": 168,
     "metadata": {},
     "output_type": "execute_result"
    }
   ],
   "source": [
    "playersDF.describe()"
   ]
  },
  {
   "cell_type": "markdown",
   "metadata": {},
   "source": [
    "Although there are 358 null values in \"votesFirst\" column, I don't plan to use this column. Since other columns don't have a null value, I can leave this data as it is."
   ]
  },
  {
   "cell_type": "markdown",
   "metadata": {},
   "source": [
    "Now salary is investigated using the single-variable (1d) exploration"
   ]
  },
  {
   "cell_type": "code",
   "execution_count": 138,
   "metadata": {
    "collapsed": false
   },
   "outputs": [
    {
     "data": {
      "image/png": "[encoded data removed]",
      "text/plain": [
       "<matplotlib.figure.Figure at 0xede1128>"
      ]
     },
     "metadata": {},
     "output_type": "display_data"
    },
    {
     "data": {
      "image/png": "[encoded data removed]",
      "text/plain": [
       "<matplotlib.figure.Figure at 0xef15c88>"
      ]
     },
     "metadata": {},
     "output_type": "display_data"
    }
   ],
   "source": [
    "# single-variable investigation - Salary\n",
    "# plot boxplot and histogram\n",
    "%matplotlib inline\n",
    "plt.boxplot(salariesDF[\"salary\"])\n",
    "plt.ylabel(\"Salary\")\n",
    "plt.show()\n",
    "plt.hist(salariesDF[\"salary\"]/1000000, bins = 10)\n",
    "plt.ylabel(\"Frequency\")\n",
    "plt.xlabel(\"Salary in millions\")\n",
    "plt.show()"
   ]
  },
  {
   "cell_type": "markdown",
   "metadata": {},
   "source": [
    "In histogram, you can see that the most of the salaries are below 5 millions and very little number of people are more than 5 millions range.\n",
    "However, the box plot is very difficult to understand because there are too many points and most of them seem to be outliers. In order to decrease the number of points, the set of the mean salaries per year is used to plot the boxplot."
   ]
  },
  {
   "cell_type": "code",
   "execution_count": 169,
   "metadata": {
    "collapsed": false
   },
   "outputs": [
    {
     "data": {
      "text/html": [
       "<div>\n",
       "<table border=\"1\" class=\"dataframe\">\n",
       "  <thead>\n",
       "    <tr style=\"text-align: right;\">\n",
       "      <th></th>\n",
       "      <th>salary</th>\n",
       "    </tr>\n",
       "    <tr>\n",
       "      <th>yearID</th>\n",
       "      <th></th>\n",
       "    </tr>\n",
       "  </thead>\n",
       "  <tbody>\n",
       "    <tr>\n",
       "      <th>1985</th>\n",
       "      <td>476299</td>\n",
       "    </tr>\n",
       "    <tr>\n",
       "      <th>1986</th>\n",
       "      <td>417147</td>\n",
       "    </tr>\n",
       "    <tr>\n",
       "      <th>1987</th>\n",
       "      <td>434729</td>\n",
       "    </tr>\n",
       "    <tr>\n",
       "      <th>1988</th>\n",
       "      <td>453171</td>\n",
       "    </tr>\n",
       "    <tr>\n",
       "      <th>1989</th>\n",
       "      <td>506323</td>\n",
       "    </tr>\n",
       "    <tr>\n",
       "      <th>1990</th>\n",
       "      <td>511973</td>\n",
       "    </tr>\n",
       "    <tr>\n",
       "      <th>1991</th>\n",
       "      <td>894961</td>\n",
       "    </tr>\n",
       "    <tr>\n",
       "      <th>1992</th>\n",
       "      <td>1047520</td>\n",
       "    </tr>\n",
       "    <tr>\n",
       "      <th>1993</th>\n",
       "      <td>977366</td>\n",
       "    </tr>\n",
       "    <tr>\n",
       "      <th>1994</th>\n",
       "      <td>1049588</td>\n",
       "    </tr>\n",
       "    <tr>\n",
       "      <th>1995</th>\n",
       "      <td>964979</td>\n",
       "    </tr>\n",
       "    <tr>\n",
       "      <th>1996</th>\n",
       "      <td>1027909</td>\n",
       "    </tr>\n",
       "    <tr>\n",
       "      <th>1997</th>\n",
       "      <td>1218687</td>\n",
       "    </tr>\n",
       "    <tr>\n",
       "      <th>1998</th>\n",
       "      <td>1281958</td>\n",
       "    </tr>\n",
       "    <tr>\n",
       "      <th>1999</th>\n",
       "      <td>1486794</td>\n",
       "    </tr>\n",
       "    <tr>\n",
       "      <th>2000</th>\n",
       "      <td>1992984</td>\n",
       "    </tr>\n",
       "    <tr>\n",
       "      <th>2001</th>\n",
       "      <td>2279841</td>\n",
       "    </tr>\n",
       "    <tr>\n",
       "      <th>2002</th>\n",
       "      <td>2392526</td>\n",
       "    </tr>\n",
       "    <tr>\n",
       "      <th>2003</th>\n",
       "      <td>2573472</td>\n",
       "    </tr>\n",
       "    <tr>\n",
       "      <th>2004</th>\n",
       "      <td>2491776</td>\n",
       "    </tr>\n",
       "    <tr>\n",
       "      <th>2005</th>\n",
       "      <td>2633830</td>\n",
       "    </tr>\n",
       "    <tr>\n",
       "      <th>2006</th>\n",
       "      <td>2834520</td>\n",
       "    </tr>\n",
       "    <tr>\n",
       "      <th>2007</th>\n",
       "      <td>2941435</td>\n",
       "    </tr>\n",
       "    <tr>\n",
       "      <th>2008</th>\n",
       "      <td>3136517</td>\n",
       "    </tr>\n",
       "    <tr>\n",
       "      <th>2009</th>\n",
       "      <td>3277646</td>\n",
       "    </tr>\n",
       "    <tr>\n",
       "      <th>2010</th>\n",
       "      <td>3278746</td>\n",
       "    </tr>\n",
       "    <tr>\n",
       "      <th>2011</th>\n",
       "      <td>3318838</td>\n",
       "    </tr>\n",
       "    <tr>\n",
       "      <th>2012</th>\n",
       "      <td>3458421</td>\n",
       "    </tr>\n",
       "    <tr>\n",
       "      <th>2013</th>\n",
       "      <td>3723344</td>\n",
       "    </tr>\n",
       "    <tr>\n",
       "      <th>2014</th>\n",
       "      <td>3980445</td>\n",
       "    </tr>\n",
       "  </tbody>\n",
       "</table>\n",
       "</div>"
      ],
      "text/plain": [
       "         salary\n",
       "yearID         \n",
       "1985     476299\n",
       "1986     417147\n",
       "1987     434729\n",
       "1988     453171\n",
       "1989     506323\n",
       "1990     511973\n",
       "1991     894961\n",
       "1992    1047520\n",
       "1993     977366\n",
       "1994    1049588\n",
       "1995     964979\n",
       "1996    1027909\n",
       "1997    1218687\n",
       "1998    1281958\n",
       "1999    1486794\n",
       "2000    1992984\n",
       "2001    2279841\n",
       "2002    2392526\n",
       "2003    2573472\n",
       "2004    2491776\n",
       "2005    2633830\n",
       "2006    2834520\n",
       "2007    2941435\n",
       "2008    3136517\n",
       "2009    3277646\n",
       "2010    3278746\n",
       "2011    3318838\n",
       "2012    3458421\n",
       "2013    3723344\n",
       "2014    3980445"
      ]
     },
     "execution_count": 169,
     "metadata": {},
     "output_type": "execute_result"
    }
   ],
   "source": [
    "# Get a dataframe of the set of the mean salaries per year\n",
    "salaryYearDF = salariesDF[[\"yearID\",\"salary\"]].groupby(\"yearID\").mean()\n",
    "salaryYearDF"
   ]
  },
  {
   "cell_type": "markdown",
   "metadata": {},
   "source": [
    "Now plot the boxplot using this dataframe."
   ]
  },
  {
   "cell_type": "code",
   "execution_count": 140,
   "metadata": {
    "collapsed": false
   },
   "outputs": [
    {
     "data": {
      "image/png": "[encoded data removed]",
      "text/plain": [
       "<matplotlib.figure.Figure at 0x1134a4a8>"
      ]
     },
     "metadata": {},
     "output_type": "display_data"
    },
    {
     "name": "stdout",
     "output_type": "stream",
     "text": [
      "Mean: 1902124.83333\n",
      "Median: 1739889.0\n"
     ]
    }
   ],
   "source": [
    "# plotting box plot and histogram\n",
    "%matplotlib inline\n",
    "plt.boxplot(salaryYearDF.values / 1000)\n",
    "plt.ylabel(\"Salary in thousands\")\n",
    "plt.show()\n",
    "\n",
    "meanYearDF = float(salaryYearDF.mean())\n",
    "medianYearDF = float(salaryYearDF.median())\n",
    "print \"Mean:\", meanYearDF\n",
    "print \"Median:\", medianYearDF"
   ]
  },
  {
   "cell_type": "markdown",
   "metadata": {},
   "source": [
    "Mean is greater than Median as expected since the historam above shows the right skewed graph. "
   ]
  },
  {
   "cell_type": "markdown",
   "metadata": {},
   "source": [
    "\n",
    "\n",
    "Now I am going to investigate the relation between the teamID and salaries.\n",
    "Find sum, max, min, mean of salaries by team ids."
   ]
  },
  {
   "cell_type": "code",
   "execution_count": 170,
   "metadata": {
    "collapsed": false
   },
   "outputs": [
    {
     "data": {
      "text/html": [
       "<div>\n",
       "<table border=\"1\" class=\"dataframe\">\n",
       "  <thead>\n",
       "    <tr style=\"text-align: right;\">\n",
       "      <th></th>\n",
       "      <th>sum</th>\n",
       "      <th>max</th>\n",
       "      <th>min</th>\n",
       "      <th>mean</th>\n",
       "    </tr>\n",
       "    <tr>\n",
       "      <th>teamID</th>\n",
       "      <th></th>\n",
       "      <th></th>\n",
       "      <th></th>\n",
       "      <th></th>\n",
       "    </tr>\n",
       "  </thead>\n",
       "  <tbody>\n",
       "    <tr>\n",
       "      <th>ANA</th>\n",
       "      <td>468091973</td>\n",
       "      <td>13166667</td>\n",
       "      <td>150000</td>\n",
       "      <td>1895109</td>\n",
       "    </tr>\n",
       "    <tr>\n",
       "      <th>ARI</th>\n",
       "      <td>1209975228</td>\n",
       "      <td>16000000</td>\n",
       "      <td>170000</td>\n",
       "      <td>2499948</td>\n",
       "    </tr>\n",
       "    <tr>\n",
       "      <th>ATL</th>\n",
       "      <td>1882946784</td>\n",
       "      <td>16061802</td>\n",
       "      <td>60000</td>\n",
       "      <td>2184393</td>\n",
       "    </tr>\n",
       "    <tr>\n",
       "      <th>BAL</th>\n",
       "      <td>1630200038</td>\n",
       "      <td>17000000</td>\n",
       "      <td>60000</td>\n",
       "      <td>1846206</td>\n",
       "    </tr>\n",
       "    <tr>\n",
       "      <th>BOS</th>\n",
       "      <td>2432700935</td>\n",
       "      <td>22500000</td>\n",
       "      <td>60000</td>\n",
       "      <td>2755040</td>\n",
       "    </tr>\n",
       "  </tbody>\n",
       "</table>\n",
       "</div>"
      ],
      "text/plain": [
       "               sum       max     min     mean\n",
       "teamID                                       \n",
       "ANA      468091973  13166667  150000  1895109\n",
       "ARI     1209975228  16000000  170000  2499948\n",
       "ATL     1882946784  16061802   60000  2184393\n",
       "BAL     1630200038  17000000   60000  1846206\n",
       "BOS     2432700935  22500000   60000  2755040"
      ]
     },
     "execution_count": 170,
     "metadata": {},
     "output_type": "execute_result"
    }
   ],
   "source": [
    "# Database with two columns: teamID and salary\n",
    "salariesDF_reduced = salariesDF[[\"teamID\",\"salary\"]]\n",
    "\n",
    "salariesDF_summary_by_teamID = salariesDF_reduced.groupby(\"teamID\").agg([np.sum,np.max,np.min,np.mean])\n",
    "salariesDF_summary_by_teamID.columns = [\"sum\", \"max\", \"min\", \"mean\"]\n",
    "salariesDF_summary_by_teamID.head()"
   ]
  },
  {
   "cell_type": "code",
   "execution_count": 142,
   "metadata": {
    "collapsed": true
   },
   "outputs": [],
   "source": [
    "def bargraph(column): # column = sum, max, min, mean\n",
    "\tfrequency = salariesDF_summary_by_teamID[column].sort_values(axis=0, ascending = False).head(10)\n",
    "\tobjects = frequency.index\n",
    "\ty_pos = np.arange(len(objects))\n",
    "\tplt.bar(y_pos, frequency, align='center')\n",
    "\tplt.xticks(y_pos, objects)\n",
    "\tplt.ylabel('Salary')\n",
    "\tplt.title(\"Top 10 {} of salaries by teamID\".format(column))\n",
    "\tprint \"Top 10 {} of salaries by teamID\".format(column)\n",
    "\tprint frequency\n",
    "\tplt.show()"
   ]
  },
  {
   "cell_type": "markdown",
   "metadata": {},
   "source": [
    "\n",
    "\n",
    "\n",
    "Change False to True to see the bargraphs."
   ]
  },
  {
   "cell_type": "code",
   "execution_count": 143,
   "metadata": {
    "collapsed": false
   },
   "outputs": [
    {
     "name": "stdout",
     "output_type": "stream",
     "text": [
      "Top 10 sum of salaries by teamID\n",
      "teamID\n",
      "NYA    3283488084\n",
      "BOS    2432700935\n",
      "LAN    2237766703\n",
      "PHI    1982355800\n",
      "NYN    1965737231\n",
      "ATL    1882946784\n",
      "CHN    1859833315\n",
      "SLN    1775631332\n",
      "DET    1771197687\n",
      "CHA    1699865143\n",
      "Name: sum, dtype: int64\n"
     ]
    },
    {
     "data": {
      "image/png": "[encoded data removed]",
      "text/plain": [
       "<matplotlib.figure.Figure at 0x9a4ef98>"
      ]
     },
     "metadata": {},
     "output_type": "display_data"
    },
    {
     "name": "stdout",
     "output_type": "stream",
     "text": [
      "Top 10 max of salaries by teamID\n",
      "teamID\n",
      "NYA    33000000\n",
      "LAA    26187500\n",
      "LAN    26000000\n",
      "PHI    25000000\n",
      "TEX    24000000\n",
      "SEA    24000000\n",
      "NYN    23145011\n",
      "DET    23000000\n",
      "MIN    23000000\n",
      "BOS    22500000\n",
      "Name: max, dtype: int64\n"
     ]
    },
    {
     "data": {
      "image/png": "[encoded data removed]",
      "text/plain": [
       "<matplotlib.figure.Figure at 0xa283160>"
      ]
     },
     "metadata": {},
     "output_type": "display_data"
    },
    {
     "name": "stdout",
     "output_type": "stream",
     "text": [
      "Top 10 min of salaries by teamID\n",
      "teamID\n",
      "NYM    501560\n",
      "SFG    500500\n",
      "MIA    480000\n",
      "WAS    316000\n",
      "LAA    316000\n",
      "ARI    170000\n",
      "MIL    170000\n",
      "TBA    170000\n",
      "ANA    150000\n",
      "COL    109000\n",
      "Name: min, dtype: int64\n"
     ]
    },
    {
     "data": {
      "image/png": "[encoded data removed]",
      "text/plain": [
       "<matplotlib.figure.Figure at 0x9c72ef0>"
      ]
     },
     "metadata": {},
     "output_type": "display_data"
    },
    {
     "name": "stdout",
     "output_type": "stream",
     "text": [
      "Top 10 mean of salaries by teamID\n",
      "teamID\n",
      "SFG    5315191\n",
      "LAA    4186119\n",
      "NYA    3735481\n",
      "BOS    2755040\n",
      "LAN    2505897\n",
      "ARI    2499948\n",
      "MIA    2480984\n",
      "WAS    2466758\n",
      "NYN    2345748\n",
      "NYM    2283624\n",
      "Name: mean, dtype: int64\n"
     ]
    },
    {
     "data": {
      "image/png": "[encoded data removed]",
      "text/plain": [
       "<matplotlib.figure.Figure at 0xf516a90>"
      ]
     },
     "metadata": {},
     "output_type": "display_data"
    }
   ],
   "source": [
    "\"\"\" Bar graph of the number of players by teamID \"\"\"\n",
    "if True:\n",
    "    %matplotlib inline\n",
    "    bargraph(\"sum\")\n",
    "    bargraph(\"max\")\n",
    "    bargraph(\"min\")\n",
    "    bargraph(\"mean\")\n"
   ]
  },
  {
   "cell_type": "markdown",
   "metadata": {},
   "source": [
    "### multiple-variable (2d) explorations\n",
    "\n",
    "I believe that the player' pointsWon affects salaries. (i.e. palyers with more points have higher salaries)\n",
    "So I set the pointsWon as an independent variable and salary as a dependent variable."
   ]
  },
  {
   "cell_type": "markdown",
   "metadata": {},
   "source": [
    "First, I reindex the salary dataframe with a key value set (year, player ID) so that I can join the two dataframes."
   ]
  },
  {
   "cell_type": "code",
   "execution_count": 153,
   "metadata": {
    "collapsed": false
   },
   "outputs": [
    {
     "data": {
      "text/html": [
       "<div>\n",
       "<table border=\"1\" class=\"dataframe\">\n",
       "  <thead>\n",
       "    <tr style=\"text-align: right;\">\n",
       "      <th></th>\n",
       "      <th>yearID</th>\n",
       "      <th>teamID</th>\n",
       "      <th>lgID</th>\n",
       "      <th>playerID</th>\n",
       "      <th>salary</th>\n",
       "    </tr>\n",
       "  </thead>\n",
       "  <tbody>\n",
       "    <tr>\n",
       "      <th>1985, barkele01</th>\n",
       "      <td>1985</td>\n",
       "      <td>ATL</td>\n",
       "      <td>NL</td>\n",
       "      <td>barkele01</td>\n",
       "      <td>870000</td>\n",
       "    </tr>\n",
       "    <tr>\n",
       "      <th>1985, bedrost01</th>\n",
       "      <td>1985</td>\n",
       "      <td>ATL</td>\n",
       "      <td>NL</td>\n",
       "      <td>bedrost01</td>\n",
       "      <td>550000</td>\n",
       "    </tr>\n",
       "    <tr>\n",
       "      <th>1985, benedbr01</th>\n",
       "      <td>1985</td>\n",
       "      <td>ATL</td>\n",
       "      <td>NL</td>\n",
       "      <td>benedbr01</td>\n",
       "      <td>545000</td>\n",
       "    </tr>\n",
       "    <tr>\n",
       "      <th>1985, campri01</th>\n",
       "      <td>1985</td>\n",
       "      <td>ATL</td>\n",
       "      <td>NL</td>\n",
       "      <td>campri01</td>\n",
       "      <td>633333</td>\n",
       "    </tr>\n",
       "    <tr>\n",
       "      <th>1985, ceronri01</th>\n",
       "      <td>1985</td>\n",
       "      <td>ATL</td>\n",
       "      <td>NL</td>\n",
       "      <td>ceronri01</td>\n",
       "      <td>625000</td>\n",
       "    </tr>\n",
       "    <tr>\n",
       "      <th>1985, chambch01</th>\n",
       "      <td>1985</td>\n",
       "      <td>ATL</td>\n",
       "      <td>NL</td>\n",
       "      <td>chambch01</td>\n",
       "      <td>800000</td>\n",
       "    </tr>\n",
       "    <tr>\n",
       "      <th>1985, dedmoje01</th>\n",
       "      <td>1985</td>\n",
       "      <td>ATL</td>\n",
       "      <td>NL</td>\n",
       "      <td>dedmoje01</td>\n",
       "      <td>150000</td>\n",
       "    </tr>\n",
       "    <tr>\n",
       "      <th>1985, forstte01</th>\n",
       "      <td>1985</td>\n",
       "      <td>ATL</td>\n",
       "      <td>NL</td>\n",
       "      <td>forstte01</td>\n",
       "      <td>483333</td>\n",
       "    </tr>\n",
       "    <tr>\n",
       "      <th>1985, garbege01</th>\n",
       "      <td>1985</td>\n",
       "      <td>ATL</td>\n",
       "      <td>NL</td>\n",
       "      <td>garbege01</td>\n",
       "      <td>772000</td>\n",
       "    </tr>\n",
       "    <tr>\n",
       "      <th>1985, harpete01</th>\n",
       "      <td>1985</td>\n",
       "      <td>ATL</td>\n",
       "      <td>NL</td>\n",
       "      <td>harpete01</td>\n",
       "      <td>250000</td>\n",
       "    </tr>\n",
       "    <tr>\n",
       "      <th>1985, hornebo01</th>\n",
       "      <td>1985</td>\n",
       "      <td>ATL</td>\n",
       "      <td>NL</td>\n",
       "      <td>hornebo01</td>\n",
       "      <td>1500000</td>\n",
       "    </tr>\n",
       "    <tr>\n",
       "      <th>1985, hubbagl01</th>\n",
       "      <td>1985</td>\n",
       "      <td>ATL</td>\n",
       "      <td>NL</td>\n",
       "      <td>hubbagl01</td>\n",
       "      <td>455000</td>\n",
       "    </tr>\n",
       "    <tr>\n",
       "      <th>1985, mahleri01</th>\n",
       "      <td>1985</td>\n",
       "      <td>ATL</td>\n",
       "      <td>NL</td>\n",
       "      <td>mahleri01</td>\n",
       "      <td>407500</td>\n",
       "    </tr>\n",
       "    <tr>\n",
       "      <th>1985, mcmurcr01</th>\n",
       "      <td>1985</td>\n",
       "      <td>ATL</td>\n",
       "      <td>NL</td>\n",
       "      <td>mcmurcr01</td>\n",
       "      <td>275000</td>\n",
       "    </tr>\n",
       "    <tr>\n",
       "      <th>1985, mumphje01</th>\n",
       "      <td>1985</td>\n",
       "      <td>ATL</td>\n",
       "      <td>NL</td>\n",
       "      <td>mumphje01</td>\n",
       "      <td>775000</td>\n",
       "    </tr>\n",
       "    <tr>\n",
       "      <th>1985, murphda05</th>\n",
       "      <td>1985</td>\n",
       "      <td>ATL</td>\n",
       "      <td>NL</td>\n",
       "      <td>murphda05</td>\n",
       "      <td>1625000</td>\n",
       "    </tr>\n",
       "    <tr>\n",
       "      <th>1985, oberkke01</th>\n",
       "      <td>1985</td>\n",
       "      <td>ATL</td>\n",
       "      <td>NL</td>\n",
       "      <td>oberkke01</td>\n",
       "      <td>616667</td>\n",
       "    </tr>\n",
       "    <tr>\n",
       "      <th>1985, perezpa01</th>\n",
       "      <td>1985</td>\n",
       "      <td>ATL</td>\n",
       "      <td>NL</td>\n",
       "      <td>perezpa01</td>\n",
       "      <td>450000</td>\n",
       "    </tr>\n",
       "    <tr>\n",
       "      <th>1985, perryge01</th>\n",
       "      <td>1985</td>\n",
       "      <td>ATL</td>\n",
       "      <td>NL</td>\n",
       "      <td>perryge01</td>\n",
       "      <td>120000</td>\n",
       "    </tr>\n",
       "    <tr>\n",
       "      <th>1985, ramirra01</th>\n",
       "      <td>1985</td>\n",
       "      <td>ATL</td>\n",
       "      <td>NL</td>\n",
       "      <td>ramirra01</td>\n",
       "      <td>750000</td>\n",
       "    </tr>\n",
       "    <tr>\n",
       "      <th>1985, suttebr01</th>\n",
       "      <td>1985</td>\n",
       "      <td>ATL</td>\n",
       "      <td>NL</td>\n",
       "      <td>suttebr01</td>\n",
       "      <td>1354167</td>\n",
       "    </tr>\n",
       "    <tr>\n",
       "      <th>1985, washicl01</th>\n",
       "      <td>1985</td>\n",
       "      <td>ATL</td>\n",
       "      <td>NL</td>\n",
       "      <td>washicl01</td>\n",
       "      <td>800000</td>\n",
       "    </tr>\n",
       "    <tr>\n",
       "      <th>1985, boddimi01</th>\n",
       "      <td>1985</td>\n",
       "      <td>BAL</td>\n",
       "      <td>AL</td>\n",
       "      <td>boddimi01</td>\n",
       "      <td>625000</td>\n",
       "    </tr>\n",
       "    <tr>\n",
       "      <th>1985, dauerri01</th>\n",
       "      <td>1985</td>\n",
       "      <td>BAL</td>\n",
       "      <td>AL</td>\n",
       "      <td>dauerri01</td>\n",
       "      <td>480000</td>\n",
       "    </tr>\n",
       "    <tr>\n",
       "      <th>1985, davisst02</th>\n",
       "      <td>1985</td>\n",
       "      <td>BAL</td>\n",
       "      <td>AL</td>\n",
       "      <td>davisst02</td>\n",
       "      <td>437500</td>\n",
       "    </tr>\n",
       "    <tr>\n",
       "      <th>1985, dempsri01</th>\n",
       "      <td>1985</td>\n",
       "      <td>BAL</td>\n",
       "      <td>AL</td>\n",
       "      <td>dempsri01</td>\n",
       "      <td>512500</td>\n",
       "    </tr>\n",
       "    <tr>\n",
       "      <th>1985, dwyerji01</th>\n",
       "      <td>1985</td>\n",
       "      <td>BAL</td>\n",
       "      <td>AL</td>\n",
       "      <td>dwyerji01</td>\n",
       "      <td>375000</td>\n",
       "    </tr>\n",
       "    <tr>\n",
       "      <th>1985, flanami01</th>\n",
       "      <td>1985</td>\n",
       "      <td>BAL</td>\n",
       "      <td>AL</td>\n",
       "      <td>flanami01</td>\n",
       "      <td>641667</td>\n",
       "    </tr>\n",
       "    <tr>\n",
       "      <th>1985, fordda01</th>\n",
       "      <td>1985</td>\n",
       "      <td>BAL</td>\n",
       "      <td>AL</td>\n",
       "      <td>fordda01</td>\n",
       "      <td>450000</td>\n",
       "    </tr>\n",
       "    <tr>\n",
       "      <th>1985, grosswa01</th>\n",
       "      <td>1985</td>\n",
       "      <td>BAL</td>\n",
       "      <td>AL</td>\n",
       "      <td>grosswa01</td>\n",
       "      <td>483333</td>\n",
       "    </tr>\n",
       "    <tr>\n",
       "      <th>...</th>\n",
       "      <td>...</td>\n",
       "      <td>...</td>\n",
       "      <td>...</td>\n",
       "      <td>...</td>\n",
       "      <td>...</td>\n",
       "    </tr>\n",
       "    <tr>\n",
       "      <th>2014, blevije01</th>\n",
       "      <td>2014</td>\n",
       "      <td>WAS</td>\n",
       "      <td>NL</td>\n",
       "      <td>blevije01</td>\n",
       "      <td>1675000</td>\n",
       "    </tr>\n",
       "    <tr>\n",
       "      <th>2014, cedenxa01</th>\n",
       "      <td>2014</td>\n",
       "      <td>WAS</td>\n",
       "      <td>NL</td>\n",
       "      <td>cedenxa01</td>\n",
       "      <td>507800</td>\n",
       "    </tr>\n",
       "    <tr>\n",
       "      <th>2014, clippty01</th>\n",
       "      <td>2014</td>\n",
       "      <td>WAS</td>\n",
       "      <td>NL</td>\n",
       "      <td>clippty01</td>\n",
       "      <td>5875000</td>\n",
       "    </tr>\n",
       "    <tr>\n",
       "      <th>2014, desmoia01</th>\n",
       "      <td>2014</td>\n",
       "      <td>WAS</td>\n",
       "      <td>NL</td>\n",
       "      <td>desmoia01</td>\n",
       "      <td>6500000</td>\n",
       "    </tr>\n",
       "    <tr>\n",
       "      <th>2014, detwiro01</th>\n",
       "      <td>2014</td>\n",
       "      <td>WAS</td>\n",
       "      <td>NL</td>\n",
       "      <td>detwiro01</td>\n",
       "      <td>3000000</td>\n",
       "    </tr>\n",
       "    <tr>\n",
       "      <th>2014, espinda01</th>\n",
       "      <td>2014</td>\n",
       "      <td>WAS</td>\n",
       "      <td>NL</td>\n",
       "      <td>espinda01</td>\n",
       "      <td>540580</td>\n",
       "    </tr>\n",
       "    <tr>\n",
       "      <th>2014, fistedo01</th>\n",
       "      <td>2014</td>\n",
       "      <td>WAS</td>\n",
       "      <td>NL</td>\n",
       "      <td>fistedo01</td>\n",
       "      <td>7200000</td>\n",
       "    </tr>\n",
       "    <tr>\n",
       "      <th>2014, frandke01</th>\n",
       "      <td>2014</td>\n",
       "      <td>WAS</td>\n",
       "      <td>NL</td>\n",
       "      <td>frandke01</td>\n",
       "      <td>900000</td>\n",
       "    </tr>\n",
       "    <tr>\n",
       "      <th>2014, gonzagi01</th>\n",
       "      <td>2014</td>\n",
       "      <td>WAS</td>\n",
       "      <td>NL</td>\n",
       "      <td>gonzagi01</td>\n",
       "      <td>8500000</td>\n",
       "    </tr>\n",
       "    <tr>\n",
       "      <th>2014, hairssc01</th>\n",
       "      <td>2014</td>\n",
       "      <td>WAS</td>\n",
       "      <td>NL</td>\n",
       "      <td>hairssc01</td>\n",
       "      <td>2500000</td>\n",
       "    </tr>\n",
       "    <tr>\n",
       "      <th>2014, harpebr03</th>\n",
       "      <td>2014</td>\n",
       "      <td>WAS</td>\n",
       "      <td>NL</td>\n",
       "      <td>harpebr03</td>\n",
       "      <td>2150000</td>\n",
       "    </tr>\n",
       "    <tr>\n",
       "      <th>2014, jordata01</th>\n",
       "      <td>2014</td>\n",
       "      <td>WAS</td>\n",
       "      <td>NL</td>\n",
       "      <td>jordata01</td>\n",
       "      <td>504300</td>\n",
       "    </tr>\n",
       "    <tr>\n",
       "      <th>2014, koberje01</th>\n",
       "      <td>2014</td>\n",
       "      <td>WAS</td>\n",
       "      <td>NL</td>\n",
       "      <td>koberje01</td>\n",
       "      <td>501000</td>\n",
       "    </tr>\n",
       "    <tr>\n",
       "      <th>2014, larocad01</th>\n",
       "      <td>2014</td>\n",
       "      <td>WAS</td>\n",
       "      <td>NL</td>\n",
       "      <td>larocad01</td>\n",
       "      <td>12000000</td>\n",
       "    </tr>\n",
       "    <tr>\n",
       "      <th>2014, leonsa01</th>\n",
       "      <td>2014</td>\n",
       "      <td>WAS</td>\n",
       "      <td>NL</td>\n",
       "      <td>leonsa01</td>\n",
       "      <td>501000</td>\n",
       "    </tr>\n",
       "    <tr>\n",
       "      <th>2014, lobatjo01</th>\n",
       "      <td>2014</td>\n",
       "      <td>WAS</td>\n",
       "      <td>NL</td>\n",
       "      <td>lobatjo01</td>\n",
       "      <td>900000</td>\n",
       "    </tr>\n",
       "    <tr>\n",
       "      <th>2014, matthry01</th>\n",
       "      <td>2014</td>\n",
       "      <td>WAS</td>\n",
       "      <td>NL</td>\n",
       "      <td>matthry01</td>\n",
       "      <td>520000</td>\n",
       "    </tr>\n",
       "    <tr>\n",
       "      <th>2014, mclouna01</th>\n",
       "      <td>2014</td>\n",
       "      <td>WAS</td>\n",
       "      <td>NL</td>\n",
       "      <td>mclouna01</td>\n",
       "      <td>5000000</td>\n",
       "    </tr>\n",
       "    <tr>\n",
       "      <th>2014, moorety01</th>\n",
       "      <td>2014</td>\n",
       "      <td>WAS</td>\n",
       "      <td>NL</td>\n",
       "      <td>moorety01</td>\n",
       "      <td>507900</td>\n",
       "    </tr>\n",
       "    <tr>\n",
       "      <th>2014, ramoswi01</th>\n",
       "      <td>2014</td>\n",
       "      <td>WAS</td>\n",
       "      <td>NL</td>\n",
       "      <td>ramoswi01</td>\n",
       "      <td>2095000</td>\n",
       "    </tr>\n",
       "    <tr>\n",
       "      <th>2014, rendoan01</th>\n",
       "      <td>2014</td>\n",
       "      <td>WAS</td>\n",
       "      <td>NL</td>\n",
       "      <td>rendoan01</td>\n",
       "      <td>1800000</td>\n",
       "    </tr>\n",
       "    <tr>\n",
       "      <th>2014, roarkta01</th>\n",
       "      <td>2014</td>\n",
       "      <td>WAS</td>\n",
       "      <td>NL</td>\n",
       "      <td>roarkta01</td>\n",
       "      <td>506100</td>\n",
       "    </tr>\n",
       "    <tr>\n",
       "      <th>2014, soriara01</th>\n",
       "      <td>2014</td>\n",
       "      <td>WAS</td>\n",
       "      <td>NL</td>\n",
       "      <td>soriara01</td>\n",
       "      <td>11000000</td>\n",
       "    </tr>\n",
       "    <tr>\n",
       "      <th>2014, spande01</th>\n",
       "      <td>2014</td>\n",
       "      <td>WAS</td>\n",
       "      <td>NL</td>\n",
       "      <td>spande01</td>\n",
       "      <td>6500000</td>\n",
       "    </tr>\n",
       "    <tr>\n",
       "      <th>2014, stammcr01</th>\n",
       "      <td>2014</td>\n",
       "      <td>WAS</td>\n",
       "      <td>NL</td>\n",
       "      <td>stammcr01</td>\n",
       "      <td>1375000</td>\n",
       "    </tr>\n",
       "    <tr>\n",
       "      <th>2014, storedr01</th>\n",
       "      <td>2014</td>\n",
       "      <td>WAS</td>\n",
       "      <td>NL</td>\n",
       "      <td>storedr01</td>\n",
       "      <td>3450000</td>\n",
       "    </tr>\n",
       "    <tr>\n",
       "      <th>2014, strasst01</th>\n",
       "      <td>2014</td>\n",
       "      <td>WAS</td>\n",
       "      <td>NL</td>\n",
       "      <td>strasst01</td>\n",
       "      <td>3975000</td>\n",
       "    </tr>\n",
       "    <tr>\n",
       "      <th>2014, werthja01</th>\n",
       "      <td>2014</td>\n",
       "      <td>WAS</td>\n",
       "      <td>NL</td>\n",
       "      <td>werthja01</td>\n",
       "      <td>20000000</td>\n",
       "    </tr>\n",
       "    <tr>\n",
       "      <th>2014, zimmejo02</th>\n",
       "      <td>2014</td>\n",
       "      <td>WAS</td>\n",
       "      <td>NL</td>\n",
       "      <td>zimmejo02</td>\n",
       "      <td>7500000</td>\n",
       "    </tr>\n",
       "    <tr>\n",
       "      <th>2014, zimmery01</th>\n",
       "      <td>2014</td>\n",
       "      <td>WAS</td>\n",
       "      <td>NL</td>\n",
       "      <td>zimmery01</td>\n",
       "      <td>14000000</td>\n",
       "    </tr>\n",
       "  </tbody>\n",
       "</table>\n",
       "<p>24756 rows × 5 columns</p>\n",
       "</div>"
      ],
      "text/plain": [
       "                yearID teamID lgID   playerID    salary\n",
       "1985, barkele01   1985    ATL   NL  barkele01    870000\n",
       "1985, bedrost01   1985    ATL   NL  bedrost01    550000\n",
       "1985, benedbr01   1985    ATL   NL  benedbr01    545000\n",
       "1985, campri01    1985    ATL   NL   campri01    633333\n",
       "1985, ceronri01   1985    ATL   NL  ceronri01    625000\n",
       "1985, chambch01   1985    ATL   NL  chambch01    800000\n",
       "1985, dedmoje01   1985    ATL   NL  dedmoje01    150000\n",
       "1985, forstte01   1985    ATL   NL  forstte01    483333\n",
       "1985, garbege01   1985    ATL   NL  garbege01    772000\n",
       "1985, harpete01   1985    ATL   NL  harpete01    250000\n",
       "1985, hornebo01   1985    ATL   NL  hornebo01   1500000\n",
       "1985, hubbagl01   1985    ATL   NL  hubbagl01    455000\n",
       "1985, mahleri01   1985    ATL   NL  mahleri01    407500\n",
       "1985, mcmurcr01   1985    ATL   NL  mcmurcr01    275000\n",
       "1985, mumphje01   1985    ATL   NL  mumphje01    775000\n",
       "1985, murphda05   1985    ATL   NL  murphda05   1625000\n",
       "1985, oberkke01   1985    ATL   NL  oberkke01    616667\n",
       "1985, perezpa01   1985    ATL   NL  perezpa01    450000\n",
       "1985, perryge01   1985    ATL   NL  perryge01    120000\n",
       "1985, ramirra01   1985    ATL   NL  ramirra01    750000\n",
       "1985, suttebr01   1985    ATL   NL  suttebr01   1354167\n",
       "1985, washicl01   1985    ATL   NL  washicl01    800000\n",
       "1985, boddimi01   1985    BAL   AL  boddimi01    625000\n",
       "1985, dauerri01   1985    BAL   AL  dauerri01    480000\n",
       "1985, davisst02   1985    BAL   AL  davisst02    437500\n",
       "1985, dempsri01   1985    BAL   AL  dempsri01    512500\n",
       "1985, dwyerji01   1985    BAL   AL  dwyerji01    375000\n",
       "1985, flanami01   1985    BAL   AL  flanami01    641667\n",
       "1985, fordda01    1985    BAL   AL   fordda01    450000\n",
       "1985, grosswa01   1985    BAL   AL  grosswa01    483333\n",
       "...                ...    ...  ...        ...       ...\n",
       "2014, blevije01   2014    WAS   NL  blevije01   1675000\n",
       "2014, cedenxa01   2014    WAS   NL  cedenxa01    507800\n",
       "2014, clippty01   2014    WAS   NL  clippty01   5875000\n",
       "2014, desmoia01   2014    WAS   NL  desmoia01   6500000\n",
       "2014, detwiro01   2014    WAS   NL  detwiro01   3000000\n",
       "2014, espinda01   2014    WAS   NL  espinda01    540580\n",
       "2014, fistedo01   2014    WAS   NL  fistedo01   7200000\n",
       "2014, frandke01   2014    WAS   NL  frandke01    900000\n",
       "2014, gonzagi01   2014    WAS   NL  gonzagi01   8500000\n",
       "2014, hairssc01   2014    WAS   NL  hairssc01   2500000\n",
       "2014, harpebr03   2014    WAS   NL  harpebr03   2150000\n",
       "2014, jordata01   2014    WAS   NL  jordata01    504300\n",
       "2014, koberje01   2014    WAS   NL  koberje01    501000\n",
       "2014, larocad01   2014    WAS   NL  larocad01  12000000\n",
       "2014, leonsa01    2014    WAS   NL   leonsa01    501000\n",
       "2014, lobatjo01   2014    WAS   NL  lobatjo01    900000\n",
       "2014, matthry01   2014    WAS   NL  matthry01    520000\n",
       "2014, mclouna01   2014    WAS   NL  mclouna01   5000000\n",
       "2014, moorety01   2014    WAS   NL  moorety01    507900\n",
       "2014, ramoswi01   2014    WAS   NL  ramoswi01   2095000\n",
       "2014, rendoan01   2014    WAS   NL  rendoan01   1800000\n",
       "2014, roarkta01   2014    WAS   NL  roarkta01    506100\n",
       "2014, soriara01   2014    WAS   NL  soriara01  11000000\n",
       "2014, spande01    2014    WAS   NL   spande01   6500000\n",
       "2014, stammcr01   2014    WAS   NL  stammcr01   1375000\n",
       "2014, storedr01   2014    WAS   NL  storedr01   3450000\n",
       "2014, strasst01   2014    WAS   NL  strasst01   3975000\n",
       "2014, werthja01   2014    WAS   NL  werthja01  20000000\n",
       "2014, zimmejo02   2014    WAS   NL  zimmejo02   7500000\n",
       "2014, zimmery01   2014    WAS   NL  zimmery01  14000000\n",
       "\n",
       "[24756 rows x 5 columns]"
      ]
     },
     "execution_count": 153,
     "metadata": {},
     "output_type": "execute_result"
    }
   ],
   "source": [
    "# Set key value as (year, player ID) for salariesDF\n",
    "keyValue = (\"{}, {}\".format(salariesDF[\"yearID\"].iloc[i],salariesDF[\"playerID\"].iloc[i]) for i in range(len(salariesDF)))\n",
    "\n",
    "salariesDFkv = pd.DataFrame(salariesDF.values, columns = list(salariesDF.columns.values), index = list(keyValue))\n",
    "salariesDFkv"
   ]
  },
  {
   "cell_type": "markdown",
   "metadata": {},
   "source": [
    "Similarly reindex the award dataframe with the key value set."
   ]
  },
  {
   "cell_type": "code",
   "execution_count": 179,
   "metadata": {
    "collapsed": false
   },
   "outputs": [
    {
     "data": {
      "text/html": [
       "<div>\n",
       "<table border=\"1\" class=\"dataframe\">\n",
       "  <thead>\n",
       "    <tr style=\"text-align: right;\">\n",
       "      <th></th>\n",
       "      <th>awardID</th>\n",
       "      <th>yearID</th>\n",
       "      <th>lgID</th>\n",
       "      <th>playerID</th>\n",
       "      <th>pointsWon</th>\n",
       "      <th>pointsMax</th>\n",
       "      <th>votesFirst</th>\n",
       "    </tr>\n",
       "  </thead>\n",
       "  <tbody>\n",
       "    <tr>\n",
       "      <th>1956, fordwh01</th>\n",
       "      <td>Cy Young</td>\n",
       "      <td>1956</td>\n",
       "      <td>ML</td>\n",
       "      <td>fordwh01</td>\n",
       "      <td>1</td>\n",
       "      <td>16</td>\n",
       "      <td>1</td>\n",
       "    </tr>\n",
       "    <tr>\n",
       "      <th>1956, maglisa01</th>\n",
       "      <td>Cy Young</td>\n",
       "      <td>1956</td>\n",
       "      <td>ML</td>\n",
       "      <td>maglisa01</td>\n",
       "      <td>4</td>\n",
       "      <td>16</td>\n",
       "      <td>4</td>\n",
       "    </tr>\n",
       "    <tr>\n",
       "      <th>1956, newcodo01</th>\n",
       "      <td>Cy Young</td>\n",
       "      <td>1956</td>\n",
       "      <td>ML</td>\n",
       "      <td>newcodo01</td>\n",
       "      <td>10</td>\n",
       "      <td>16</td>\n",
       "      <td>10</td>\n",
       "    </tr>\n",
       "    <tr>\n",
       "      <th>1956, spahnwa01</th>\n",
       "      <td>Cy Young</td>\n",
       "      <td>1956</td>\n",
       "      <td>ML</td>\n",
       "      <td>spahnwa01</td>\n",
       "      <td>1</td>\n",
       "      <td>16</td>\n",
       "      <td>1</td>\n",
       "    </tr>\n",
       "    <tr>\n",
       "      <th>1957, donovdi01</th>\n",
       "      <td>Cy Young</td>\n",
       "      <td>1957</td>\n",
       "      <td>ML</td>\n",
       "      <td>donovdi01</td>\n",
       "      <td>1</td>\n",
       "      <td>16</td>\n",
       "      <td>1</td>\n",
       "    </tr>\n",
       "  </tbody>\n",
       "</table>\n",
       "</div>"
      ],
      "text/plain": [
       "                  awardID yearID lgID   playerID pointsWon pointsMax  \\\n",
       "1956, fordwh01   Cy Young   1956   ML   fordwh01         1        16   \n",
       "1956, maglisa01  Cy Young   1956   ML  maglisa01         4        16   \n",
       "1956, newcodo01  Cy Young   1956   ML  newcodo01        10        16   \n",
       "1956, spahnwa01  Cy Young   1956   ML  spahnwa01         1        16   \n",
       "1957, donovdi01  Cy Young   1957   ML  donovdi01         1        16   \n",
       "\n",
       "                votesFirst  \n",
       "1956, fordwh01           1  \n",
       "1956, maglisa01          4  \n",
       "1956, newcodo01         10  \n",
       "1956, spahnwa01          1  \n",
       "1957, donovdi01          1  "
      ]
     },
     "execution_count": 179,
     "metadata": {},
     "output_type": "execute_result"
    }
   ],
   "source": [
    "# Set key value as (year, player ID) for playersDF\n",
    "keyValue = (\"{}, {}\".format(playersDF[\"yearID\"].iloc[i],playersDF[\"playerID\"].iloc[i]) for i in range(len(playersDF)))\n",
    "\n",
    "playersDFkv = pd.DataFrame(playersDF.values, columns = list(playersDF.columns.values), index = list(keyValue))\n",
    "playersDFkv.head()"
   ]
  },
  {
   "cell_type": "markdown",
   "metadata": {},
   "source": [
    "Create new database that joins the salary dataframe with the player dataframe."
   ]
  },
  {
   "cell_type": "code",
   "execution_count": 208,
   "metadata": {
    "collapsed": false
   },
   "outputs": [
    {
     "data": {
      "text/html": [
       "<div>\n",
       "<table border=\"1\" class=\"dataframe\">\n",
       "  <thead>\n",
       "    <tr style=\"text-align: right;\">\n",
       "      <th></th>\n",
       "      <th>yearID</th>\n",
       "      <th>teamID</th>\n",
       "      <th>lgID</th>\n",
       "      <th>playerID</th>\n",
       "      <th>salary</th>\n",
       "      <th>awardID</th>\n",
       "      <th>pointsWon</th>\n",
       "      <th>pointsMax</th>\n",
       "      <th>votesFirst</th>\n",
       "    </tr>\n",
       "  </thead>\n",
       "  <tbody>\n",
       "    <tr>\n",
       "      <th>0</th>\n",
       "      <td>1985</td>\n",
       "      <td>ATL</td>\n",
       "      <td>NL</td>\n",
       "      <td>murphda05</td>\n",
       "      <td>1625000</td>\n",
       "      <td>MVP</td>\n",
       "      <td>63</td>\n",
       "      <td>336</td>\n",
       "      <td>0</td>\n",
       "    </tr>\n",
       "    <tr>\n",
       "      <th>1</th>\n",
       "      <td>1985</td>\n",
       "      <td>BAL</td>\n",
       "      <td>AL</td>\n",
       "      <td>murraed02</td>\n",
       "      <td>1472819</td>\n",
       "      <td>MVP</td>\n",
       "      <td>130</td>\n",
       "      <td>392</td>\n",
       "      <td>0</td>\n",
       "    </tr>\n",
       "    <tr>\n",
       "      <th>2</th>\n",
       "      <td>1985</td>\n",
       "      <td>BAL</td>\n",
       "      <td>AL</td>\n",
       "      <td>ripkeca01</td>\n",
       "      <td>800000</td>\n",
       "      <td>MVP</td>\n",
       "      <td>9</td>\n",
       "      <td>392</td>\n",
       "      <td>0</td>\n",
       "    </tr>\n",
       "    <tr>\n",
       "      <th>3</th>\n",
       "      <td>1985</td>\n",
       "      <td>BOS</td>\n",
       "      <td>AL</td>\n",
       "      <td>boggswa01</td>\n",
       "      <td>1000000</td>\n",
       "      <td>MVP</td>\n",
       "      <td>159</td>\n",
       "      <td>392</td>\n",
       "      <td>0</td>\n",
       "    </tr>\n",
       "    <tr>\n",
       "      <th>4</th>\n",
       "      <td>1985</td>\n",
       "      <td>BOS</td>\n",
       "      <td>AL</td>\n",
       "      <td>gedmari01</td>\n",
       "      <td>477500</td>\n",
       "      <td>MVP</td>\n",
       "      <td>1</td>\n",
       "      <td>392</td>\n",
       "      <td>0</td>\n",
       "    </tr>\n",
       "  </tbody>\n",
       "</table>\n",
       "</div>"
      ],
      "text/plain": [
       "  yearID teamID lgID   playerID   salary awardID pointsWon pointsMax  \\\n",
       "0   1985    ATL   NL  murphda05  1625000     MVP        63       336   \n",
       "1   1985    BAL   AL  murraed02  1472819     MVP       130       392   \n",
       "2   1985    BAL   AL  ripkeca01   800000     MVP         9       392   \n",
       "3   1985    BOS   AL  boggswa01  1000000     MVP       159       392   \n",
       "4   1985    BOS   AL  gedmari01   477500     MVP         1       392   \n",
       "\n",
       "  votesFirst  \n",
       "0          0  \n",
       "1          0  \n",
       "2          0  \n",
       "3          0  \n",
       "4          0  "
      ]
     },
     "execution_count": 208,
     "metadata": {},
     "output_type": "execute_result"
    }
   ],
   "source": [
    "salaryPlayerDF = pd.merge(salariesDFkv, playersDFkv, how = \"inner\")\n",
    "salaryPlayerDF.head()"
   ]
  },
  {
   "cell_type": "markdown",
   "metadata": {},
   "source": [
    "I now have a merged dataframe so I can find the correlation between pointsWon and salary.\n",
    "First I am going to standardize each column for pointsWon and salary."
   ]
  },
  {
   "cell_type": "code",
   "execution_count": null,
   "metadata": {
    "collapsed": true
   },
   "outputs": [],
   "source": [
    "# Standardizing\n",
    "def standard(sr):\n",
    "    return (sr - sr.mean())/sr.std(ddof=0)\n",
    "\n",
    "salaryPlayerDF = salaryPlayerDF[[\"pointsWon\", \"salary\"]]"
   ]
  },
  {
   "cell_type": "code",
   "execution_count": 213,
   "metadata": {
    "collapsed": false
   },
   "outputs": [
    {
     "data": {
      "image/png": "[encoded data removed]",
      "text/plain": [
       "<matplotlib.figure.Figure at 0xa26d390>"
      ]
     },
     "metadata": {},
     "output_type": "display_data"
    }
   ],
   "source": [
    "# Scatter plot for awardsWon and salary\n",
    "%matplotlib inline\n",
    "plt.scatter(salaryPlayerDF[\"pointsWon\"], salaryPlayerDF[\"salary\"])\n",
    "plt.show()"
   ]
  },
  {
   "cell_type": "markdown",
   "metadata": {},
   "source": [
    "\n",
    "\n",
    "\n",
    "\n",
    "This part is for looking at the trend of the salary change whether it increases or decreases."
   ]
  },
  {
   "cell_type": "code",
   "execution_count": 14,
   "metadata": {
    "collapsed": false
   },
   "outputs": [
    {
     "data": {
      "image/png": "[encoded data removed]",
      "text/plain": [
       "<matplotlib.figure.Figure at 0x9fecb00>"
      ]
     },
     "metadata": {},
     "output_type": "display_data"
    },
    {
     "data": {
      "image/png": "[encoded data removed]",
      "text/plain": [
       "<matplotlib.figure.Figure at 0xa98b160>"
      ]
     },
     "metadata": {},
     "output_type": "display_data"
    },
    {
     "data": {
      "image/png": "[encoded data removed]",
      "text/plain": [
       "<matplotlib.figure.Figure at 0xaac7cc0>"
      ]
     },
     "metadata": {},
     "output_type": "display_data"
    },
    {
     "data": {
      "image/png": "[encoded data removed]",
      "text/plain": [
       "<matplotlib.figure.Figure at 0xad4f5c0>"
      ]
     },
     "metadata": {},
     "output_type": "display_data"
    }
   ],
   "source": [
    "\"\"\" data by year \"\"\"\n",
    "salariesDF_by_year = salariesDF[[\"yearID\",\"salary\"]].groupby(\"yearID\").agg([np.sum,np.max,np.min,np.mean])\n",
    "salariesDF_by_year.columns = [\"sum\", \"max\", \"min\", \"mean\"]\n",
    "\n",
    "if True:\n",
    "    %matplotlib inline\n",
    "    plt.title('Sum by year')\n",
    "    plt.xlabel('Year')\n",
    "    plt.ylabel('Salary')\n",
    "    plt.plot(salariesDF_by_year.index, salariesDF_by_year[\"sum\"])\n",
    "    plt.show()\n",
    "    plt.title('Maximum by year')\n",
    "    plt.xlabel('Year')\n",
    "    plt.ylabel('Salary')\n",
    "    plt.plot(salariesDF_by_year.index, salariesDF_by_year[\"max\"])\n",
    "    plt.show()\n",
    "    plt.title('Minimum by year')\n",
    "    plt.xlabel('Year')\n",
    "    plt.ylabel('Salary')\n",
    "    plt.plot(salariesDF_by_year.index, salariesDF_by_year[\"min\"])\n",
    "    plt.show()\n",
    "    plt.title('Mean by year')\n",
    "    plt.xlabel('Year')\n",
    "    plt.ylabel('Salary')\n",
    "    plt.plot(salariesDF_by_year.index, salariesDF_by_year[\"mean\"])\n",
    "    plt.show()"
   ]
  },
  {
   "cell_type": "markdown",
   "metadata": {},
   "source": [
    "\n",
    "\n",
    "All of these factors increase as year gets close to 2014. But when you look at the second graph there is a peak around at 2010 and I decided to analyze that.\n",
    "\n"
   ]
  },
  {
   "cell_type": "code",
   "execution_count": 15,
   "metadata": {
    "collapsed": false
   },
   "outputs": [
    {
     "name": "stdout",
     "output_type": "stream",
     "text": [
      "\n",
      "Maximum salary occurs in 2009, $ 33000000\n",
      "\n"
     ]
    }
   ],
   "source": [
    "\"\"\" Finding maximum year \"\"\"\n",
    "maxSalaryByYear = salariesDF_by_year[\"max\"].argmax()\n",
    "print \"\\nMaximum salary occurs in {}, $ {}\\n\".format(maxSalaryByYear, salariesDF_by_year[\"max\"].loc[maxSalaryByYear])"
   ]
  },
  {
   "cell_type": "code",
   "execution_count": 16,
   "metadata": {
    "collapsed": false
   },
   "outputs": [
    {
     "name": "stdout",
     "output_type": "stream",
     "text": [
      "rodrial01\n",
      "Detailed information of the player\n",
      "       yearID teamID lgID   playerID    salary\n",
      "20286    2009    NYA   AL  rodrial01  33000000 \n",
      "\n"
     ]
    }
   ],
   "source": [
    "\"\"\" Find player with the maximum in 2009 \"\"\"\n",
    "maxDFyear = salariesDF[salariesDF[\"yearID\"]==2009]\n",
    "maxPlayer2009 = maxDFyear[maxDFyear[\"salary\"] == salariesDF_by_year[\"max\"].loc[maxSalaryByYear]]\n",
    "maxPlayerID = maxPlayer2009[\"playerID\"].values[0]\n",
    "print maxPlayerID\n",
    "print \"Detailed information of the player\"\n",
    "print maxPlayer2009, \"\\n\"\n"
   ]
  },
  {
   "cell_type": "markdown",
   "metadata": {},
   "source": [
    "\n",
    "\n",
    "The maximum value occurs in 2009 and the team id and player id is shown above. He had the highest salary of all time.\n",
    "\n"
   ]
  },
  {
   "cell_type": "code",
   "execution_count": 33,
   "metadata": {
    "collapsed": false
   },
   "outputs": [
    {
     "data": {
      "image/png": "[encoded data removed]",
      "text/plain": [
       "<matplotlib.figure.Figure at 0x9fca7f0>"
      ]
     },
     "metadata": {},
     "output_type": "display_data"
    }
   ],
   "source": [
    "\"\"\" maximum player's yearly graph \"\"\"\n",
    "maxPlayerDF = salariesDF[salariesDF[\"playerID\"] == maxPlayerID]\n",
    "\n",
    "if True:\n",
    "    %matplotlib inline\n",
    "    plt.plot(maxPlayerDF[\"yearID\"], maxPlayerDF[\"salary\"])\n",
    "    plt.title(\"Year data of {}\".format(maxPlayerID))\n",
    "    plt.show()"
   ]
  },
  {
   "cell_type": "markdown",
   "metadata": {},
   "source": [
    "\n",
    "\n",
    "He started from very low salary and reached to the highest salary range in 2009. Although the salary goes down after 2010, he is the highest paid player."
   ]
  },
  {
   "cell_type": "markdown",
   "metadata": {},
   "source": [
    "The correlation between year and salary is calculated. The correlation will be between -1 and 1. I expect the range would be positive since there is an increase in salary as year goes to 2014.\n",
    "\n"
   ]
  },
  {
   "cell_type": "code",
   "execution_count": 34,
   "metadata": {
    "collapsed": false
   },
   "outputs": [
    {
     "data": {
      "image/png": "[encoded data removed]",
      "text/plain": [
       "<matplotlib.figure.Figure at 0xa3f35f8>"
      ]
     },
     "metadata": {},
     "output_type": "display_data"
    }
   ],
   "source": [
    "\"\"\" Relationship between year and salary \"\"\"\n",
    "salaryYearDF = salariesDF[[\"yearID\",\"salary\"]]\n",
    "standardizedDF = salaryYearDF.apply(standard)\n",
    "\n",
    "if True:\n",
    "    %matplotlib inline\n",
    "    plt.scatter(standardizedDF[\"yearID\"], standardizedDF[\"salary\"])\n",
    "    plt.title(\"Salaries by year\")\n",
    "    plt.show()"
   ]
  },
  {
   "cell_type": "markdown",
   "metadata": {},
   "source": [
    "The code above first take yearID and salary columns and standardize those two columns. And then, the mean of product of each x coordinate and y coordinate is calculated. One interesting thing to note is that although the highest paid salaries is getting increased, the minimum salaries are almost consistent.\n",
    "\n"
   ]
  },
  {
   "cell_type": "code",
   "execution_count": 35,
   "metadata": {
    "collapsed": false
   },
   "outputs": [
    {
     "name": "stdout",
     "output_type": "stream",
     "text": [
      "Correlation between salaries and year: 0.345339080873\n"
     ]
    }
   ],
   "source": [
    "\"\"\" Calculating correlation \"\"\"\n",
    "correlation = (standardizedDF[\"yearID\"] * standardizedDF[\"salary\"]).mean()\n",
    "print \"Correlation between salaries and year:\",correlation"
   ]
  },
  {
   "cell_type": "markdown",
   "metadata": {},
   "source": [
    "As expected the correlation comes out as a positive number. There is a positive correlation between year and players' salaries.\n",
    "\n"
   ]
  },
  {
   "cell_type": "code",
   "execution_count": 36,
   "metadata": {
    "collapsed": false
   },
   "outputs": [
    {
     "data": {
      "image/png": "[encoded data removed]",
      "text/plain": [
       "<matplotlib.figure.Figure at 0xb2662b0>"
      ]
     },
     "metadata": {},
     "output_type": "display_data"
    }
   ],
   "source": [
    "\"\"\" Relationship between year and salary \"\"\"\n",
    "salaryYearDF = salariesDF[[\"yearID\",\"teamID\",\"salary\"]].groupby([\"yearID\",\"teamID\"]).mean()\n",
    "\n",
    "x = salaryYearDF.index.values\n",
    "x = np.array(map(lambda x: int(x[0]), x))\n",
    "\n",
    "y = salaryYearDF.values.reshape(1, len(salaryYearDF.values))[0]\n",
    "\n",
    "x = (x - x.mean()) / x.std()\n",
    "y = (y - y.mean()) / y.std()\n",
    "\n",
    "if True:\n",
    "    %matplotlib inline\n",
    "    plt.scatter(x,y)\n",
    "    plt.title(\"Means of teams by year\")\n",
    "    plt.show()"
   ]
  },
  {
   "cell_type": "markdown",
   "metadata": {},
   "source": [
    "This graph is showing only the means of teams' salaries not the entire salaries of players. As you can see that the number of points have been reduced compared to the previous graph. The mean of each team is calculated by using \"groupby\" in pandas. Another notable difference is that the minimum salaries of each year is increasing. We might be able to expect more positive correlation. Since there will be less negative values when we calculate the mean."
   ]
  },
  {
   "cell_type": "code",
   "execution_count": 37,
   "metadata": {
    "collapsed": false
   },
   "outputs": [
    {
     "name": "stdout",
     "output_type": "stream",
     "text": [
      "Correlation between mean salaries by team and year: 0.725273264404\n"
     ]
    }
   ],
   "source": [
    "\"\"\" Calculating correlation \"\"\"\n",
    "correlation = (x * y).mean()\n",
    "print \"Correlation between mean salaries by team and year:\", correlation\n"
   ]
  },
  {
   "cell_type": "markdown",
   "metadata": {},
   "source": [
    "\n",
    "\n",
    "As expected, the correlation is calculated to be a positive number and is greater than the previous correlation value. So there is an obvious trend of increase in salaries.\n",
    "\n",
    "Lastly, I decide to find the highest paid basedball team in 2014 because when you look at the scatter plot above, the highest paid team in 2014 is the highest paid of all time.\n",
    "\n"
   ]
  },
  {
   "cell_type": "code",
   "execution_count": 38,
   "metadata": {
    "collapsed": false
   },
   "outputs": [
    {
     "name": "stdout",
     "output_type": "stream",
     "text": [
      "Team with the maximum mean of salaries in 2014: SFN\n"
     ]
    }
   ],
   "source": [
    "\"\"\" Find the country with the maximum mean in 2014 \"\"\"\n",
    "salaryYearDF = pd.DataFrame((salaryYearDF.index.values), index =np.array(range(len(salaryYearDF))), columns = [\"mean\"])\n",
    "\n",
    "salaryYearDFyear = salaryYearDF[\"mean\"].map(lambda x: x[0])\n",
    "salaryYearDFteam = salaryYearDF[\"mean\"].map(lambda x: x[1])\n",
    "salaryYearDFsalary = pd.DataFrame(y, index =np.array(range(len(salaryYearDF))), columns = [\"mean\"])\n",
    "\n",
    "maxidxSalary2014 = salaryYearDFsalary[salaryYearDFyear == 2014].idxmax()\n",
    "maxTeam2014 = salaryYearDFteam[maxidxSalary2014.values[0]]\n",
    "print \"Team with the maximum mean of salaries in 2014:\", maxTeam2014\n"
   ]
  },
  {
   "cell_type": "code",
   "execution_count": null,
   "metadata": {
    "collapsed": true
   },
   "outputs": [],
   "source": []
  }
 ],
 "metadata": {
  "kernelspec": {
   "display_name": "Python 2",
   "language": "python",
   "name": "python2"
  },
  "language_info": {
   "codemirror_mode": {
    "name": "ipython",
    "version": 2
   },
   "file_extension": ".py",
   "mimetype": "text/x-python",
   "name": "python",
   "nbconvert_exporter": "python",
   "pygments_lexer": "ipython2",
   "version": "2.7.11"
  }
 },
 "nbformat": 4,
 "nbformat_minor": 0
}
