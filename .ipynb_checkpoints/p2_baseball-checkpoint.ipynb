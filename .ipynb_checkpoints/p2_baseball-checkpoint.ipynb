{
 "cells": [
  {
   "cell_type": "markdown",
   "metadata": {},
   "source": [
    "# P2: Investigate a Dataset\n",
    "\n",
    "### Source: 2014 Lahman’s Baseball Database."
   ]
  },
  {
   "cell_type": "raw",
   "metadata": {},
   "source": [
    "I used \"Salaries.csv\" and \"AwardsSharePlayers.csv\" for my project and my question to this database is \n",
    "    \"What factors have an effect on team salaries?\"\n",
    "There are total 5 columns and I am going to analyze yearID, teamID and igID to investigate how these columns are related to salaries.\n",
    "\n",
    "First, I am going to import these two csv files and transform to Pandas DataFrame and do some data wrangling."
   ]
  },
  {
   "cell_type": "code",
   "execution_count": 74,
   "metadata": {
    "collapsed": false
   },
   "outputs": [
    {
     "name": "stdout",
     "output_type": "stream",
     "text": [
      "   yearID teamID lgID   playerID  salary\n",
      "0    1985    ATL   NL  barkele01  870000\n",
      "1    1985    ATL   NL  bedrost01  550000\n",
      "2    1985    ATL   NL  benedbr01  545000\n",
      "3    1985    ATL   NL   campri01  633333\n",
      "4    1985    ATL   NL  ceronri01  625000 \n",
      "\n",
      "    awardID  yearID lgID   playerID  pointsWon  pointsMax  votesFirst\n",
      "0  Cy Young    1956   ML   fordwh01          1         16           1\n",
      "1  Cy Young    1956   ML  maglisa01          4         16           4\n",
      "2  Cy Young    1956   ML  newcodo01         10         16          10\n",
      "3  Cy Young    1956   ML  spahnwa01          1         16           1\n",
      "4  Cy Young    1957   ML  donovdi01          1         16           1\n"
     ]
    }
   ],
   "source": [
    "import matplotlib.pyplot as plt\n",
    "import numpy as np\n",
    "import pandas as pd\n",
    "\n",
    "# import Salaries data\n",
    "filename = 'Salaries.csv'\n",
    "salariesDF = pd.read_csv(filename)\n",
    "\n",
    "# import Players data\n",
    "filename = 'AwardsSharePlayers.csv'\n",
    "playersDF = pd.read_csv(filename)\n",
    "\n",
    "print salariesDF.head(), \"\\n\"\n",
    "print playersDF.head()"
   ]
  },
  {
   "cell_type": "markdown",
   "metadata": {},
   "source": [
    "\n",
    "\n",
    "\n",
    "\n",
    "And I am going to see if there is any null value in the data.\n",
    "First salaries data."
   ]
  },
  {
   "cell_type": "code",
   "execution_count": 26,
   "metadata": {
    "collapsed": false
   },
   "outputs": [
    {
     "name": "stdout",
     "output_type": "stream",
     "text": [
      "yearID      0\n",
      "teamID      0\n",
      "lgID        0\n",
      "playerID    0\n",
      "salary      0\n",
      "dtype: int64\n"
     ]
    }
   ],
   "source": [
    "print pd.isnull(salariesDF).sum()"
   ]
  },
  {
   "cell_type": "code",
   "execution_count": 27,
   "metadata": {
    "collapsed": false
   },
   "outputs": [
    {
     "name": "stdout",
     "output_type": "stream",
     "text": [
      "             yearID           salary\n",
      "count  24758.000000     24758.000000\n",
      "mean    1999.891752   1932904.790169\n",
      "std        8.324492   3190333.601862\n",
      "min     1985.000000         0.000000\n",
      "25%     1993.000000    260000.000000\n",
      "50%     2000.000000    525000.000000\n",
      "75%     2007.000000   2199643.000000\n",
      "max     2014.000000  33000000.000000\n"
     ]
    }
   ],
   "source": [
    "print salariesDF.describe()"
   ]
  },
  {
   "cell_type": "markdown",
   "metadata": {},
   "source": [
    "\n",
    "\n",
    "\n",
    "\n",
    "Although there is no null value in the data, there are some zeros in salary column. I am going to find these rows with zero salary."
   ]
  },
  {
   "cell_type": "code",
   "execution_count": 28,
   "metadata": {
    "collapsed": false
   },
   "outputs": [
    {
     "name": "stdout",
     "output_type": "stream",
     "text": [
      "       yearID teamID lgID   playerID  salary\n",
      "6179     1993    NYA   AL  jamesdi01       0\n",
      "12007    1999    PIT   NL  martija02       0\n"
     ]
    }
   ],
   "source": [
    "print salariesDF[salariesDF[\"salary\"] == 0]"
   ]
  },
  {
   "cell_type": "markdown",
   "metadata": {},
   "source": [
    "\n",
    "\n",
    "\n",
    "There are total two players with 0 salary. I am going to find more details about those two players."
   ]
  },
  {
   "cell_type": "code",
   "execution_count": 29,
   "metadata": {
    "collapsed": false
   },
   "outputs": [
    {
     "name": "stdout",
     "output_type": "stream",
     "text": [
      "      yearID teamID lgID   playerID  salary\n",
      "1302    1987    ATL   NL  jamesdi01  120000\n",
      "1929    1988    ATL   NL  jamesdi01  360000\n",
      "2591    1989    ATL   NL  jamesdi01  400000\n",
      "3536    1990    CLE   AL  jamesdi01  650000\n",
      "5293    1992    NYA   AL  jamesdi01  387500\n",
      "6179    1993    NYA   AL  jamesdi01       0\n",
      "8019    1995    NYA   AL  jamesdi01  350000\n"
     ]
    }
   ],
   "source": [
    "print salariesDF[salariesDF[\"playerID\"] == \"jamesdi01\"]"
   ]
  },
  {
   "cell_type": "code",
   "execution_count": 30,
   "metadata": {
    "collapsed": false,
    "scrolled": true
   },
   "outputs": [
    {
     "name": "stdout",
     "output_type": "stream",
     "text": [
      "       yearID teamID lgID   playerID  salary\n",
      "11011    1998    PIT   NL  martija02  170000\n",
      "12007    1999    PIT   NL  martija02       0\n"
     ]
    }
   ],
   "source": [
    "print salariesDF[salariesDF[\"playerID\"] == \"martija02\"]"
   ]
  },
  {
   "cell_type": "markdown",
   "metadata": {},
   "source": [
    "\n",
    "\n",
    "\n",
    "Clearly for jamesdi01, the 0 value is wrong. I am going to assume the salary in 1993 as the average of 1992 and 1995. For martija02, I will ignore these two rows from the database.\n",
    "\n"
   ]
  },
  {
   "cell_type": "code",
   "execution_count": 31,
   "metadata": {
    "collapsed": false
   },
   "outputs": [
    {
     "name": "stdout",
     "output_type": "stream",
     "text": [
      "      yearID teamID lgID   playerID  salary\n",
      "1302    1987    ATL   NL  jamesdi01  120000\n",
      "1929    1988    ATL   NL  jamesdi01  360000\n",
      "2591    1989    ATL   NL  jamesdi01  400000\n",
      "3536    1990    CLE   AL  jamesdi01  650000\n",
      "5293    1992    NYA   AL  jamesdi01  387500\n",
      "6179    1993    NYA   AL  jamesdi01  368750\n",
      "8019    1995    NYA   AL  jamesdi01  350000\n"
     ]
    }
   ],
   "source": [
    "# Taking care of jamesdi01\n",
    "salariesDF[\"salary\"].iloc[6179] = (387500 + 350000) / 2\n",
    "print salariesDF[salariesDF[\"playerID\"] == \"jamesdi01\"]"
   ]
  },
  {
   "cell_type": "code",
   "execution_count": 32,
   "metadata": {
    "collapsed": false
   },
   "outputs": [
    {
     "name": "stdout",
     "output_type": "stream",
     "text": [
      "             yearID           salary\n",
      "count  24756.000000     24756.000000\n",
      "mean    1999.891865   1933068.974996\n",
      "std        8.324817   3190410.980033\n",
      "min     1985.000000     10900.000000\n",
      "25%     1993.000000    260000.000000\n",
      "50%     2000.000000    525000.000000\n",
      "75%     2007.000000   2200000.000000\n",
      "max     2014.000000  33000000.000000\n"
     ]
    }
   ],
   "source": [
    "# Taking care of martija02\n",
    "salariesDF = salariesDF[salariesDF[\"playerID\"] != \"martija02\"]\n",
    "print salariesDF.describe()"
   ]
  },
  {
   "cell_type": "markdown",
   "metadata": {},
   "source": [
    "Now I am going to clean the AwardsSharePlayers data."
   ]
  },
  {
   "cell_type": "code",
   "execution_count": 80,
   "metadata": {
    "collapsed": false
   },
   "outputs": [
    {
     "name": "stdout",
     "output_type": "stream",
     "text": [
      "awardID         0\n",
      "yearID          0\n",
      "lgID            0\n",
      "playerID        0\n",
      "pointsWon       0\n",
      "pointsMax       0\n",
      "votesFirst    358\n",
      "dtype: int64\n",
      "            yearID    pointsWon    pointsMax   votesFirst\n",
      "count  6705.000000  6705.000000  6705.000000  6347.000000\n",
      "mean   1971.344817    43.168829   266.107233     1.612573\n",
      "std      27.172773    67.714919   128.980771     4.868226\n",
      "min    1911.000000     0.000000    16.000000     0.000000\n",
      "25%    1950.000000     4.000000   140.000000     0.000000\n",
      "50%    1974.000000    12.000000   336.000000     0.000000\n",
      "75%    1994.000000    52.000000   336.000000     0.000000\n",
      "max    2014.000000   448.000000   448.000000    32.000000\n"
     ]
    }
   ],
   "source": [
    "# Printout the total number of null values of each column\n",
    "print pd.isnull(playersDF).sum()\n",
    "print playersDF.describe()"
   ]
  },
  {
   "cell_type": "markdown",
   "metadata": {},
   "source": [
    "Although there are 358 null values in \"votesFirst\" column, I don't plan to use this column. Since other columns don't have a null value, I can leave this data as it is."
   ]
  },
  {
   "cell_type": "markdown",
   "metadata": {},
   "source": [
    "Now salary is investigated using the single-variable (1d) exploration"
   ]
  },
  {
   "cell_type": "code",
   "execution_count": 70,
   "metadata": {
    "collapsed": false
   },
   "outputs": [
    {
     "data": {
      "image/png": "[encoded data removed]",
      "text/plain": [
       "<matplotlib.figure.Figure at 0x9ab60f0>"
      ]
     },
     "metadata": {},
     "output_type": "display_data"
    },
    {
     "data": {
      "image/png": "[encoded data removed]",
      "text/plain": [
       "<matplotlib.figure.Figure at 0xb14c550>"
      ]
     },
     "metadata": {},
     "output_type": "display_data"
    }
   ],
   "source": [
    "# single-variable investigation - Salary\n",
    "# plot boxplot and histogram\n",
    "plt.boxplot(salariesDF[\"salary\"])\n",
    "plt.ylabel(\"Salary\")\n",
    "plt.show()\n",
    "plt.hist(salariesDF[\"salary\"]/1000000, bins = 10)\n",
    "plt.ylabel(\"Frequency\")\n",
    "plt.xlabel(\"Salary in millions\")\n",
    "plt.show()"
   ]
  },
  {
   "cell_type": "markdown",
   "metadata": {},
   "source": [
    "In histogram, you can see that the most of the salaries are below 5 millions and very little number of people are more than 5 millions range.\n",
    "However, the box plot is very difficult to understand because there are too many points and most of them seem to be outliers. In order to decrease the number of points, the set of the mean salaries per year is used to plot the boxplot."
   ]
  },
  {
   "cell_type": "code",
   "execution_count": 56,
   "metadata": {
    "collapsed": false
   },
   "outputs": [
    {
     "name": "stdout",
     "output_type": "stream",
     "text": [
      "         salary\n",
      "yearID         \n",
      "1985     476299\n",
      "1986     417147\n",
      "1987     434729\n",
      "1988     453171\n",
      "1989     506323\n",
      "1990     511973\n",
      "1991     894961\n",
      "1992    1047520\n",
      "1993     977366\n",
      "1994    1049588\n",
      "1995     964979\n",
      "1996    1027909\n",
      "1997    1218687\n",
      "1998    1281958\n",
      "1999    1486794\n",
      "2000    1992984\n",
      "2001    2279841\n",
      "2002    2392526\n",
      "2003    2573472\n",
      "2004    2491776\n",
      "2005    2633830\n",
      "2006    2834520\n",
      "2007    2941435\n",
      "2008    3136517\n",
      "2009    3277646\n",
      "2010    3278746\n",
      "2011    3318838\n",
      "2012    3458421\n",
      "2013    3723344\n",
      "2014    3980445\n"
     ]
    }
   ],
   "source": [
    "# Get a dataframe of the set of the mean salaries per year\n",
    "salaryYearDF = salariesDF[[\"yearID\",\"salary\"]].groupby(\"yearID\").mean()\n",
    "print salaryYearDF"
   ]
  },
  {
   "cell_type": "markdown",
   "metadata": {},
   "source": [
    "Now plot the boxplot using this dataframe."
   ]
  },
  {
   "cell_type": "code",
   "execution_count": 81,
   "metadata": {
    "collapsed": false
   },
   "outputs": [
    {
     "name": "stdout",
     "output_type": "stream",
     "text": [
      "salary    1739889\n",
      "dtype: float64\n"
     ]
    },
    {
     "data": {
      "image/png": "[encoded data removed]",
      "text/plain": [
       "<matplotlib.figure.Figure at 0xb290d30>"
      ]
     },
     "metadata": {},
     "output_type": "display_data"
    },
    {
     "name": "stdout",
     "output_type": "stream",
     "text": [
      "Mean: 1902124.83333\n",
      "Median: 1739889.0\n"
     ]
    }
   ],
   "source": [
    "# plotting box plot and histogram\n",
    "print salaryYearDF.median()\n",
    "plt.boxplot(salaryYearDF.values / 1000)\n",
    "plt.ylabel(\"Salary in thousands\")\n",
    "plt.show()\n",
    "\n",
    "meanYearDF = float(salaryYearDF.mean())\n",
    "medianYearDF = float(salaryYearDF.median())\n",
    "print \"Mean:\", meanYearDF\n",
    "print \"Median:\", medianYearDF"
   ]
  },
  {
   "cell_type": "markdown",
   "metadata": {},
   "source": [
    "Mean is greater than Median as expected since the historam above shows the right skewed graph. "
   ]
  },
  {
   "cell_type": "markdown",
   "metadata": {},
   "source": [
    "\n",
    "\n",
    "Now I am going to investigate the relation between the teamID and salaries.\n",
    "Find sum, max, min, mean of salaries by team ids."
   ]
  },
  {
   "cell_type": "code",
   "execution_count": 11,
   "metadata": {
    "collapsed": false
   },
   "outputs": [
    {
     "name": "stdout",
     "output_type": "stream",
     "text": [
      "               sum       max     min     mean\n",
      "teamID                                       \n",
      "ANA      468091973  13166667  150000  1895109\n",
      "ARI     1209975228  16000000  170000  2499948\n",
      "ATL     1882946784  16061802   60000  2184393\n",
      "BAL     1630200038  17000000   60000  1846206\n",
      "BOS     2432700935  22500000   60000  2755040\n"
     ]
    }
   ],
   "source": [
    "# Database with two columns: teamID and salary\n",
    "salariesDF_reduced = salariesDF[[\"teamID\",\"salary\"]]\n",
    "\n",
    "salariesDF_summary_by_teamID = salariesDF_reduced.groupby(\"teamID\").agg([np.sum,np.max,np.min,np.mean])\n",
    "salariesDF_summary_by_teamID.columns = [\"sum\", \"max\", \"min\", \"mean\"]\n",
    "print salariesDF_summary_by_teamID.head()"
   ]
  },
  {
   "cell_type": "code",
   "execution_count": 17,
   "metadata": {
    "collapsed": true
   },
   "outputs": [],
   "source": [
    "def bargraph(column): # column = sum, max, min, mean\n",
    "\tfrequency = salariesDF_summary_by_teamID[column].sort_values(axis=0, ascending = False).head(10)\n",
    "\tobjects = frequency.index\n",
    "\ty_pos = np.arange(len(objects))\n",
    "\tplt.bar(y_pos, frequency, align='center')\n",
    "\tplt.xticks(y_pos, objects)\n",
    "\tplt.ylabel('Salary')\n",
    "\tplt.title(\"Top 10 {} of salaries by teamID\".format(column))\n",
    "\tprint \"Top 10 {} of salaries by teamID\".format(column)\n",
    "\tprint frequency\n",
    "\tplt.show()"
   ]
  },
  {
   "cell_type": "markdown",
   "metadata": {},
   "source": [
    "\n",
    "\n",
    "\n",
    "Change False to True to see the bargraphs."
   ]
  },
  {
   "cell_type": "code",
   "execution_count": 18,
   "metadata": {
    "collapsed": false
   },
   "outputs": [
    {
     "name": "stdout",
     "output_type": "stream",
     "text": [
      "Top 10 sum of salaries by teamID\n",
      "teamID\n",
      "NYA    3283488084\n",
      "BOS    2432700935\n",
      "LAN    2237766703\n",
      "PHI    1982355800\n",
      "NYN    1965737231\n",
      "ATL    1882946784\n",
      "CHN    1859833315\n",
      "SLN    1775631332\n",
      "DET    1771197687\n",
      "CHA    1699865143\n",
      "Name: sum, dtype: int64\n"
     ]
    },
    {
     "data": {
      "image/png": "[encoded data removed]",
      "text/plain": [
       "<matplotlib.figure.Figure at 0xa17c4a8>"
      ]
     },
     "metadata": {},
     "output_type": "display_data"
    },
    {
     "name": "stdout",
     "output_type": "stream",
     "text": [
      "Top 10 max of salaries by teamID\n",
      "teamID\n",
      "NYA    33000000\n",
      "LAA    26187500\n",
      "LAN    26000000\n",
      "PHI    25000000\n",
      "TEX    24000000\n",
      "SEA    24000000\n",
      "NYN    23145011\n",
      "DET    23000000\n",
      "MIN    23000000\n",
      "BOS    22500000\n",
      "Name: max, dtype: int64\n"
     ]
    },
    {
     "data": {
      "image/png": "[encoded data removed]",
      "text/plain": [
       "<matplotlib.figure.Figure at 0xaa7d278>"
      ]
     },
     "metadata": {},
     "output_type": "display_data"
    },
    {
     "name": "stdout",
     "output_type": "stream",
     "text": [
      "Top 10 min of salaries by teamID\n",
      "teamID\n",
      "NYM    501560\n",
      "SFG    500500\n",
      "MIA    480000\n",
      "WAS    316000\n",
      "LAA    316000\n",
      "ARI    170000\n",
      "MIL    170000\n",
      "TBA    170000\n",
      "ANA    150000\n",
      "COL    109000\n",
      "Name: min, dtype: int64\n"
     ]
    },
    {
     "data": {
      "image/png": "[encoded data removed]",
      "text/plain": [
       "<matplotlib.figure.Figure at 0x9fdccc0>"
      ]
     },
     "metadata": {},
     "output_type": "display_data"
    },
    {
     "name": "stdout",
     "output_type": "stream",
     "text": [
      "Top 10 mean of salaries by teamID\n",
      "teamID\n",
      "SFG    5315191\n",
      "LAA    4186119\n",
      "NYA    3735481\n",
      "BOS    2755040\n",
      "LAN    2505897\n",
      "ARI    2499948\n",
      "MIA    2480984\n",
      "WAS    2466758\n",
      "NYN    2345748\n",
      "NYM    2283624\n",
      "Name: mean, dtype: int64\n"
     ]
    },
    {
     "data": {
      "image/png": "[encoded data removed]",
      "text/plain": [
       "<matplotlib.figure.Figure at 0xae2d1d0>"
      ]
     },
     "metadata": {},
     "output_type": "display_data"
    }
   ],
   "source": [
    "\"\"\" Bar graph of the number of players by teamID \"\"\"\n",
    "if True:\n",
    "    %matplotlib inline\n",
    "    bargraph(\"sum\")\n",
    "    bargraph(\"max\")\n",
    "    bargraph(\"min\")\n",
    "    bargraph(\"mean\")\n"
   ]
  },
  {
   "cell_type": "markdown",
   "metadata": {},
   "source": [
    "### multiple-variable (2d) explorations\n",
    "\n",
    "I believe that the player' pointsWon affects salaries.\n",
    "So I set the pointsWon as  independent variable and salary as dependent variable."
   ]
  },
  {
   "cell_type": "markdown",
   "metadata": {},
   "source": [
    "Set key value as (year, player ID) from salary dataframe and player dataframe."
   ]
  },
  {
   "cell_type": "code",
   "execution_count": 101,
   "metadata": {
    "collapsed": false
   },
   "outputs": [
    {
     "name": "stdout",
     "output_type": "stream",
     "text": [
      "       yearID   playerID\n",
      "0        1985  barkele01\n",
      "1        1985  bedrost01\n",
      "2        1985  benedbr01\n",
      "3        1985   campri01\n",
      "4        1985  ceronri01\n",
      "5        1985  chambch01\n",
      "6        1985  dedmoje01\n",
      "7        1985  forstte01\n",
      "8        1985  garbege01\n",
      "9        1985  harpete01\n",
      "10       1985  hornebo01\n",
      "11       1985  hubbagl01\n",
      "12       1985  mahleri01\n",
      "13       1985  mcmurcr01\n",
      "14       1985  mumphje01\n",
      "15       1985  murphda05\n",
      "16       1985  oberkke01\n",
      "17       1985  perezpa01\n",
      "18       1985  perryge01\n",
      "19       1985  ramirra01\n",
      "20       1985  suttebr01\n",
      "21       1985  washicl01\n",
      "22       1985  boddimi01\n",
      "23       1985  dauerri01\n",
      "24       1985  davisst02\n",
      "25       1985  dempsri01\n",
      "26       1985  dwyerji01\n",
      "27       1985  flanami01\n",
      "28       1985   fordda01\n",
      "29       1985  grosswa01\n",
      "...       ...        ...\n",
      "24728    2014  blevije01\n",
      "24729    2014  cedenxa01\n",
      "24730    2014  clippty01\n",
      "24731    2014  desmoia01\n",
      "24732    2014  detwiro01\n",
      "24733    2014  espinda01\n",
      "24734    2014  fistedo01\n",
      "24735    2014  frandke01\n",
      "24736    2014  gonzagi01\n",
      "24737    2014  hairssc01\n",
      "24738    2014  harpebr03\n",
      "24739    2014  jordata01\n",
      "24740    2014  koberje01\n",
      "24741    2014  larocad01\n",
      "24742    2014   leonsa01\n",
      "24743    2014  lobatjo01\n",
      "24744    2014  matthry01\n",
      "24745    2014  mclouna01\n",
      "24746    2014  moorety01\n",
      "24747    2014  ramoswi01\n",
      "24748    2014  rendoan01\n",
      "24749    2014  roarkta01\n",
      "24750    2014  soriara01\n",
      "24751    2014   spande01\n",
      "24752    2014  stammcr01\n",
      "24753    2014  storedr01\n",
      "24754    2014  strasst01\n",
      "24755    2014  werthja01\n",
      "24756    2014  zimmejo02\n",
      "24757    2014  zimmery01\n",
      "\n",
      "[24758 rows x 2 columns]\n"
     ]
    }
   ],
   "source": [
    "# Set key value as (year, player ID)\n",
    "print salariesDF[\"yearID\"].to_frame().join(salariesDF[\"playerID\"].to_frame())\n"
   ]
  },
  {
   "cell_type": "markdown",
   "metadata": {},
   "source": [
    "\n",
    "\n",
    "\n",
    "\n",
    "This part is for looking at the trend of the salary change whether it increases or decreases."
   ]
  },
  {
   "cell_type": "code",
   "execution_count": 14,
   "metadata": {
    "collapsed": false
   },
   "outputs": [
    {
     "data": {
      "image/png": "[encoded data removed]",
      "text/plain": [
       "<matplotlib.figure.Figure at 0x9fecb00>"
      ]
     },
     "metadata": {},
     "output_type": "display_data"
    },
    {
     "data": {
      "image/png": "[encoded data removed]",
      "text/plain": [
       "<matplotlib.figure.Figure at 0xa98b160>"
      ]
     },
     "metadata": {},
     "output_type": "display_data"
    },
    {
     "data": {
      "image/png": "[encoded data removed]",
      "text/plain": [
       "<matplotlib.figure.Figure at 0xaac7cc0>"
      ]
     },
     "metadata": {},
     "output_type": "display_data"
    },
    {
     "data": {
      "image/png": "[encoded data removed]",
      "text/plain": [
       "<matplotlib.figure.Figure at 0xad4f5c0>"
      ]
     },
     "metadata": {},
     "output_type": "display_data"
    }
   ],
   "source": [
    "\"\"\" data by year \"\"\"\n",
    "salariesDF_by_year = salariesDF[[\"yearID\",\"salary\"]].groupby(\"yearID\").agg([np.sum,np.max,np.min,np.mean])\n",
    "salariesDF_by_year.columns = [\"sum\", \"max\", \"min\", \"mean\"]\n",
    "\n",
    "if True:\n",
    "    %matplotlib inline\n",
    "    plt.title('Sum by year')\n",
    "    plt.xlabel('Year')\n",
    "    plt.ylabel('Salary')\n",
    "    plt.plot(salariesDF_by_year.index, salariesDF_by_year[\"sum\"])\n",
    "    plt.show()\n",
    "    plt.title('Maximum by year')\n",
    "    plt.xlabel('Year')\n",
    "    plt.ylabel('Salary')\n",
    "    plt.plot(salariesDF_by_year.index, salariesDF_by_year[\"max\"])\n",
    "    plt.show()\n",
    "    plt.title('Minimum by year')\n",
    "    plt.xlabel('Year')\n",
    "    plt.ylabel('Salary')\n",
    "    plt.plot(salariesDF_by_year.index, salariesDF_by_year[\"min\"])\n",
    "    plt.show()\n",
    "    plt.title('Mean by year')\n",
    "    plt.xlabel('Year')\n",
    "    plt.ylabel('Salary')\n",
    "    plt.plot(salariesDF_by_year.index, salariesDF_by_year[\"mean\"])\n",
    "    plt.show()"
   ]
  },
  {
   "cell_type": "markdown",
   "metadata": {},
   "source": [
    "\n",
    "\n",
    "All of these factors increase as year gets close to 2014. But when you look at the second graph there is a peak around at 2010 and I decided to analyze that.\n",
    "\n"
   ]
  },
  {
   "cell_type": "code",
   "execution_count": 15,
   "metadata": {
    "collapsed": false
   },
   "outputs": [
    {
     "name": "stdout",
     "output_type": "stream",
     "text": [
      "\n",
      "Maximum salary occurs in 2009, $ 33000000\n",
      "\n"
     ]
    }
   ],
   "source": [
    "\"\"\" Finding maximum year \"\"\"\n",
    "maxSalaryByYear = salariesDF_by_year[\"max\"].argmax()\n",
    "print \"\\nMaximum salary occurs in {}, $ {}\\n\".format(maxSalaryByYear, salariesDF_by_year[\"max\"].loc[maxSalaryByYear])"
   ]
  },
  {
   "cell_type": "code",
   "execution_count": 16,
   "metadata": {
    "collapsed": false
   },
   "outputs": [
    {
     "name": "stdout",
     "output_type": "stream",
     "text": [
      "rodrial01\n",
      "Detailed information of the player\n",
      "       yearID teamID lgID   playerID    salary\n",
      "20286    2009    NYA   AL  rodrial01  33000000 \n",
      "\n"
     ]
    }
   ],
   "source": [
    "\"\"\" Find player with the maximum in 2009 \"\"\"\n",
    "maxDFyear = salariesDF[salariesDF[\"yearID\"]==2009]\n",
    "maxPlayer2009 = maxDFyear[maxDFyear[\"salary\"] == salariesDF_by_year[\"max\"].loc[maxSalaryByYear]]\n",
    "maxPlayerID = maxPlayer2009[\"playerID\"].values[0]\n",
    "print maxPlayerID\n",
    "print \"Detailed information of the player\"\n",
    "print maxPlayer2009, \"\\n\"\n"
   ]
  },
  {
   "cell_type": "markdown",
   "metadata": {},
   "source": [
    "\n",
    "\n",
    "The maximum value occurs in 2009 and the team id and player id is shown above. He had the highest salary of all time.\n",
    "\n"
   ]
  },
  {
   "cell_type": "code",
   "execution_count": 33,
   "metadata": {
    "collapsed": false
   },
   "outputs": [
    {
     "data": {
      "image/png": "[encoded data removed]",
      "text/plain": [
       "<matplotlib.figure.Figure at 0x9fca7f0>"
      ]
     },
     "metadata": {},
     "output_type": "display_data"
    }
   ],
   "source": [
    "\"\"\" maximum player's yearly graph \"\"\"\n",
    "maxPlayerDF = salariesDF[salariesDF[\"playerID\"] == maxPlayerID]\n",
    "\n",
    "if True:\n",
    "    %matplotlib inline\n",
    "    plt.plot(maxPlayerDF[\"yearID\"], maxPlayerDF[\"salary\"])\n",
    "    plt.title(\"Year data of {}\".format(maxPlayerID))\n",
    "    plt.show()"
   ]
  },
  {
   "cell_type": "markdown",
   "metadata": {},
   "source": [
    "\n",
    "\n",
    "He started from very low salary and reached to the highest salary range in 2009. Although the salary goes down after 2010, he is the highest paid player."
   ]
  },
  {
   "cell_type": "markdown",
   "metadata": {},
   "source": [
    "The correlation between year and salary is calculated. The correlation will be between -1 and 1. I expect the range would be positive since there is an increase in salary as year goes to 2014.\n",
    "\n"
   ]
  },
  {
   "cell_type": "code",
   "execution_count": 34,
   "metadata": {
    "collapsed": false
   },
   "outputs": [
    {
     "data": {
      "image/png": "[encoded data removed]",
      "text/plain": [
       "<matplotlib.figure.Figure at 0xa3f35f8>"
      ]
     },
     "metadata": {},
     "output_type": "display_data"
    }
   ],
   "source": [
    "\"\"\" Relationship between year and salary \"\"\"\n",
    "salaryYearDF = salariesDF[[\"yearID\",\"salary\"]]\n",
    "\n",
    "def standard(sr):\n",
    "    return (sr - sr.mean())/sr.std(ddof=0)\n",
    "\n",
    "standardizedDF = salaryYearDF.apply(standard)\n",
    "\n",
    "if True:\n",
    "    %matplotlib inline\n",
    "    plt.scatter(standardizedDF[\"yearID\"], standardizedDF[\"salary\"])\n",
    "    plt.title(\"Salaries by year\")\n",
    "    plt.show()"
   ]
  },
  {
   "cell_type": "markdown",
   "metadata": {},
   "source": [
    "The code above first take yearID and salary columns and standardize those two columns. And then, the mean of product of each x coordinate and y coordinate is calculated. One interesting thing to note is that although the highest paid salaries is getting increased, the minimum salaries are almost consistent.\n",
    "\n"
   ]
  },
  {
   "cell_type": "code",
   "execution_count": 35,
   "metadata": {
    "collapsed": false
   },
   "outputs": [
    {
     "name": "stdout",
     "output_type": "stream",
     "text": [
      "Correlation between salaries and year: 0.345339080873\n"
     ]
    }
   ],
   "source": [
    "\"\"\" Calculating correlation \"\"\"\n",
    "correlation = (standardizedDF[\"yearID\"] * standardizedDF[\"salary\"]).mean()\n",
    "print \"Correlation between salaries and year:\",correlation"
   ]
  },
  {
   "cell_type": "markdown",
   "metadata": {},
   "source": [
    "As expected the correlation comes out as a positive number. There is a positive correlation between year and players' salaries.\n",
    "\n"
   ]
  },
  {
   "cell_type": "code",
   "execution_count": 36,
   "metadata": {
    "collapsed": false
   },
   "outputs": [
    {
     "data": {
      "image/png": "[encoded data removed]",
      "text/plain": [
       "<matplotlib.figure.Figure at 0xb2662b0>"
      ]
     },
     "metadata": {},
     "output_type": "display_data"
    }
   ],
   "source": [
    "\"\"\" Relationship between year and salary \"\"\"\n",
    "salaryYearDF = salariesDF[[\"yearID\",\"teamID\",\"salary\"]].groupby([\"yearID\",\"teamID\"]).mean()\n",
    "\n",
    "x = salaryYearDF.index.values\n",
    "x = np.array(map(lambda x: int(x[0]), x))\n",
    "\n",
    "y = salaryYearDF.values.reshape(1, len(salaryYearDF.values))[0]\n",
    "\n",
    "x = (x - x.mean()) / x.std()\n",
    "y = (y - y.mean()) / y.std()\n",
    "\n",
    "if True:\n",
    "    %matplotlib inline\n",
    "    plt.scatter(x,y)\n",
    "    plt.title(\"Means of teams by year\")\n",
    "    plt.show()"
   ]
  },
  {
   "cell_type": "markdown",
   "metadata": {},
   "source": [
    "This graph is showing only the means of teams' salaries not the entire salaries of players. As you can see that the number of points have been reduced compared to the previous graph. The mean of each team is calculated by using \"groupby\" in pandas. Another notable difference is that the minimum salaries of each year is increasing. We might be able to expect more positive correlation. Since there will be less negative values when we calculate the mean."
   ]
  },
  {
   "cell_type": "code",
   "execution_count": 37,
   "metadata": {
    "collapsed": false
   },
   "outputs": [
    {
     "name": "stdout",
     "output_type": "stream",
     "text": [
      "Correlation between mean salaries by team and year: 0.725273264404\n"
     ]
    }
   ],
   "source": [
    "\"\"\" Calculating correlation \"\"\"\n",
    "correlation = (x * y).mean()\n",
    "print \"Correlation between mean salaries by team and year:\", correlation\n"
   ]
  },
  {
   "cell_type": "markdown",
   "metadata": {},
   "source": [
    "\n",
    "\n",
    "As expected, the correlation is calculated to be a positive number and is greater than the previous correlation value. So there is an obvious trend of increase in salaries.\n",
    "\n",
    "Lastly, I decide to find the highest paid basedball team in 2014 because when you look at the scatter plot above, the highest paid team in 2014 is the highest paid of all time.\n",
    "\n"
   ]
  },
  {
   "cell_type": "code",
   "execution_count": 38,
   "metadata": {
    "collapsed": false
   },
   "outputs": [
    {
     "name": "stdout",
     "output_type": "stream",
     "text": [
      "Team with the maximum mean of salaries in 2014: SFN\n"
     ]
    }
   ],
   "source": [
    "\"\"\" Find the country with the maximum mean in 2014 \"\"\"\n",
    "salaryYearDF = pd.DataFrame((salaryYearDF.index.values), index =np.array(range(len(salaryYearDF))), columns = [\"mean\"])\n",
    "\n",
    "salaryYearDFyear = salaryYearDF[\"mean\"].map(lambda x: x[0])\n",
    "salaryYearDFteam = salaryYearDF[\"mean\"].map(lambda x: x[1])\n",
    "salaryYearDFsalary = pd.DataFrame(y, index =np.array(range(len(salaryYearDF))), columns = [\"mean\"])\n",
    "\n",
    "maxidxSalary2014 = salaryYearDFsalary[salaryYearDFyear == 2014].idxmax()\n",
    "maxTeam2014 = salaryYearDFteam[maxidxSalary2014.values[0]]\n",
    "print \"Team with the maximum mean of salaries in 2014:\", maxTeam2014\n"
   ]
  },
  {
   "cell_type": "code",
   "execution_count": null,
   "metadata": {
    "collapsed": true
   },
   "outputs": [],
   "source": []
  }
 ],
 "metadata": {
  "kernelspec": {
   "display_name": "Python 2",
   "language": "python",
   "name": "python2"
  },
  "language_info": {
   "codemirror_mode": {
    "name": "ipython",
    "version": 2
   },
   "file_extension": ".py",
   "mimetype": "text/x-python",
   "name": "python",
   "nbconvert_exporter": "python",
   "pygments_lexer": "ipython2",
   "version": "2.7.10"
  }
 },
 "nbformat": 4,
 "nbformat_minor": 0
}
